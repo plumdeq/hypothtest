{
 "cells": [
  {
   "cell_type": "markdown",
   "metadata": {},
   "source": [
    "# Experiment IV: Generalization of the hypothesis configuraiton"
   ]
  },
  {
   "cell_type": "code",
   "execution_count": 1,
   "metadata": {
    "collapsed": true
   },
   "outputs": [],
   "source": [
    "%load_ext autoreload\n",
    "%autoreload 2"
   ]
  },
  {
   "cell_type": "code",
   "execution_count": 2,
   "metadata": {
    "collapsed": false
   },
   "outputs": [
    {
     "name": "stdout",
     "output_type": "stream",
     "text": [
      "Populating the interactive namespace from numpy and matplotlib\n"
     ]
    }
   ],
   "source": [
    "%pylab inline"
   ]
  },
  {
   "cell_type": "markdown",
   "metadata": {},
   "source": [
    "## Prepare graphs"
   ]
  },
  {
   "cell_type": "code",
   "execution_count": 3,
   "metadata": {
    "collapsed": false
   },
   "outputs": [
    {
     "name": "stderr",
     "output_type": "stream",
     "text": [
      "INFO:rdflib:RDFLib Version: 4.2.1\n"
     ]
    }
   ],
   "source": [
    "from hypotest.ontologies import molecular_subgraph, full_graph\n",
    "from grontocrawler.graph import produce_graph\n",
    "from hypotest.graph_mutation import normalize_hypothgraph\n",
    "\n",
    "sub_onto = molecular_subgraph.g\n",
    "full_onto = full_graph.g\n",
    "\n",
    "sub_unnorm = produce_graph.produce_graph(sub_onto, options=['existential-arcs'])\n",
    "full_unnorm = produce_graph.produce_graph(full_onto, options=['existential-arcs'])\n",
    "\n",
    "sub_norm, _ = normalize_hypothgraph.normalize_hypothgraph(sub_unnorm)\n",
    "full_norm, _ = normalize_hypothgraph.normalize_hypothgraph(full_unnorm)"
   ]
  },
  {
   "cell_type": "markdown",
   "metadata": {},
   "source": [
    "### Configuration"
   ]
  },
  {
   "cell_type": "code",
   "execution_count": 69,
   "metadata": {
    "collapsed": false
   },
   "outputs": [
    {
     "name": "stdout",
     "output_type": "stream",
     "text": [
      "('http://plumdeq.xyz/ontologies/hypothesis/Synovial_inflammation', 'http://plumdeq.xyz/ontologies/hypothesis/Cartilage_degeneration')\n"
     ]
    }
   ],
   "source": [
    "from hypotest.confidence import compute_confidence\n",
    "from hypotest.graph_generation import hypoth_conf\n",
    "Hypoth_Conf = hypoth_conf.Hypoth_Conf\n",
    "conf_source, conf_target = hypoth_conf.generate_max_endpoints(sub_norm)\n",
    "print(conf_source, conf_target)"
   ]
  },
  {
   "cell_type": "markdown",
   "metadata": {},
   "source": [
    "## See what alse can you prove with the same evidence set"
   ]
  },
  {
   "cell_type": "markdown",
   "metadata": {},
   "source": [
    "* Synovial inflammation                               0.142857\n",
    "* Positive regulation of TNF alpha overproduction     0.142857\n",
    "* Cartilage degeneration                              0.142857\n",
    "* Diminution of load bearing capacity of cartilage    0.107143\n",
    "* Biochemical imbalance                               0.107143"
   ]
  },
  {
   "cell_type": "code",
   "execution_count": 12,
   "metadata": {
    "collapsed": true
   },
   "outputs": [],
   "source": [
    "ns = \"http://plumdeq.xyz/ontologies/hypothesis/\"\n",
    "evidences = [\n",
    "    'Synovial inflammation',\n",
    "    'Positive regulation of TNF alpha overproduction',\n",
    "    'Cartilage degeneration',\n",
    "    'Biochemical imbalance'\n",
    "]"
   ]
  },
  {
   "cell_type": "code",
   "execution_count": 13,
   "metadata": {
    "collapsed": false
   },
   "outputs": [],
   "source": [
    "evidence_set = [''.join([ns, e.replace(' ', '_')]) for e in evidences]\n",
    "for e in evidence_set:\n",
    "    assert e in full_norm.node\n",
    "    assert e in sub_norm.node, e"
   ]
  },
  {
   "cell_type": "markdown",
   "metadata": {},
   "source": [
    "## Initial confidences"
   ]
  },
  {
   "cell_type": "code",
   "execution_count": 91,
   "metadata": {
    "collapsed": true
   },
   "outputs": [],
   "source": [
    "init_conf = Hypoth_Conf(conf_source, conf_target, evidence_set)\n",
    "init_sub = compute_confidence.normalized_confidence(sub_norm, init_conf)\n",
    "init_full = compute_confidence.normalized_confidence(full_norm, init_conf)"
   ]
  },
  {
   "cell_type": "code",
   "execution_count": 92,
   "metadata": {
    "collapsed": false
   },
   "outputs": [
    {
     "data": {
      "text/plain": [
       "0.6666666666666666"
      ]
     },
     "execution_count": 92,
     "metadata": {},
     "output_type": "execute_result"
    }
   ],
   "source": [
    "init_sub"
   ]
  },
  {
   "cell_type": "code",
   "execution_count": 93,
   "metadata": {
    "collapsed": false
   },
   "outputs": [
    {
     "data": {
      "text/plain": [
       "0.5357142857142857"
      ]
     },
     "execution_count": 93,
     "metadata": {},
     "output_type": "execute_result"
    }
   ],
   "source": [
    "init_full"
   ]
  },
  {
   "cell_type": "markdown",
   "metadata": {},
   "source": [
    "## Try all possible hypothesis configurations"
   ]
  },
  {
   "cell_type": "code",
   "execution_count": 14,
   "metadata": {
    "collapsed": true
   },
   "outputs": [],
   "source": [
    "import networkx as nx\n",
    "import itertools as it"
   ]
  },
  {
   "cell_type": "code",
   "execution_count": 22,
   "metadata": {
    "collapsed": true
   },
   "outputs": [],
   "source": [
    "confs_sub = {}\n",
    "confs_full = {}"
   ]
  },
  {
   "cell_type": "code",
   "execution_count": 25,
   "metadata": {
    "collapsed": false
   },
   "outputs": [],
   "source": [
    "for s, t in it.combinations(full_norm.nodes(), 2):\n",
    "    if nx.has_path(full_norm, s, t):\n",
    "        s_label = full_norm.node[s]['label']\n",
    "        t_label = full_norm.node[t]['label']\n",
    "        new_conf = Hypoth_Conf(s, t, evidence_set)\n",
    "        \n",
    "        # Confidence for subgraph\n",
    "        if s in sub_norm.node and t in sub_norm.node:\n",
    "            confs_sub[(s_label, t_label)] = compute_confidence.normalized_confidence(sub_norm, new_conf)\n",
    "        else:\n",
    "            confs_sub[(s_label, t_label)] = 0\n",
    "        \n",
    "        # Confidence for full graph\n",
    "        confs_full[(s_label, t_label)] = compute_confidence.normalized_confidence(full_norm, new_conf)"
   ]
  },
  {
   "cell_type": "markdown",
   "metadata": {},
   "source": [
    "## Study these confidences as dataframes"
   ]
  },
  {
   "cell_type": "code",
   "execution_count": 27,
   "metadata": {
    "collapsed": true
   },
   "outputs": [],
   "source": [
    "import pandas as pd"
   ]
  },
  {
   "cell_type": "code",
   "execution_count": 30,
   "metadata": {
    "collapsed": false
   },
   "outputs": [],
   "source": [
    "df_sub = pd.Series(confs_sub)\n",
    "df_full = pd.Series(confs_full)"
   ]
  },
  {
   "cell_type": "code",
   "execution_count": 34,
   "metadata": {
    "collapsed": false
   },
   "outputs": [
    {
     "data": {
      "text/plain": [
       "count    174.000000\n",
       "mean       0.165396\n",
       "std        0.278585\n",
       "min        0.000000\n",
       "25%        0.000000\n",
       "50%        0.000000\n",
       "75%        0.433333\n",
       "max        1.000000\n",
       "dtype: float64"
      ]
     },
     "execution_count": 34,
     "metadata": {},
     "output_type": "execute_result"
    }
   ],
   "source": [
    "df_sub.describe()"
   ]
  },
  {
   "cell_type": "code",
   "execution_count": 35,
   "metadata": {
    "collapsed": false
   },
   "outputs": [
    {
     "data": {
      "text/plain": [
       "count    174.000000\n",
       "mean       0.416871\n",
       "std        0.168516\n",
       "min        0.000000\n",
       "25%        0.343388\n",
       "50%        0.428571\n",
       "75%        0.500000\n",
       "max        1.000000\n",
       "dtype: float64"
      ]
     },
     "execution_count": 35,
     "metadata": {},
     "output_type": "execute_result"
    }
   ],
   "source": [
    "df_full.describe()"
   ]
  },
  {
   "cell_type": "code",
   "execution_count": 51,
   "metadata": {
    "collapsed": false
   },
   "outputs": [
    {
     "data": {
      "text/plain": [
       "Cartilage degeneration                                  Biochemical imbalance                                     0.666667\n",
       "                                                        Negative regulation of Collagen production                0.750000\n",
       "                                                        Positive regulation of TNF alpha overproduction           1.000000\n",
       "Loss of collagen                                        Cartilage degeneration                                    0.666667\n",
       "                                                        Negative regulation of Collagen production                0.666667\n",
       "                                                        Positive regulation of TNF alpha overproduction           0.800000\n",
       "Loss of proteoglycan                                    Cartilage degeneration                                    0.666667\n",
       "                                                        Negative regulation of Chondrocytes anabolic activity     0.666667\n",
       "                                                        Negative regulation of Collagen production                0.666667\n",
       "                                                        Negative regulation of Proteoglycan production            0.666667\n",
       "                                                        Positive regulation of Chondrocytes catabolic activity    0.666667\n",
       "                                                        Positive regulation of TNF alpha overproduction           0.800000\n",
       "                                                        Synovial inflammation                                     0.750000\n",
       "Positive regulation of Aggrecanases production          Positive regulation of TNF alpha overproduction           0.666667\n",
       "Positive regulation of Chondrocytes catabolic activity  Positive regulation of TNF alpha overproduction           0.615385\n",
       "Positive regulation of MMP13 production                 Positive regulation of TNF alpha overproduction           0.666667\n",
       "Synovial inflammation                                   Cartilage degeneration                                    0.666667\n",
       "                                                        Negative regulation of Chondrocytes anabolic activity     0.666667\n",
       "                                                        Negative regulation of Collagen production                0.666667\n",
       "                                                        Negative regulation of Proteoglycan production            0.666667\n",
       "                                                        Positive regulation of Chondrocytes catabolic activity    0.666667\n",
       "                                                        Positive regulation of TNF alpha overproduction           1.000000\n",
       "dtype: float64"
      ]
     },
     "execution_count": 51,
     "metadata": {},
     "output_type": "execute_result"
    }
   ],
   "source": [
    "df_sub[df_sub > 0.6]"
   ]
  },
  {
   "cell_type": "code",
   "execution_count": 47,
   "metadata": {
    "collapsed": false
   },
   "outputs": [
    {
     "data": {
      "text/plain": [
       "Cartilage degeneration                            Biochemical imbalance                                     0.666667\n",
       "                                                  Negative regulation of Collagen production                0.750000\n",
       "                                                  Positive regulation of TNF alpha overproduction           1.000000\n",
       "Diminution of load bearing capacity of cartilage  Positive regulation of TNF alpha overproduction           0.750000\n",
       "                                                  Synovial inflammation                                     0.666667\n",
       "Loss of collagen                                  Positive regulation of TNF alpha overproduction           0.625000\n",
       "Loss of proteoglycan                              Positive regulation of TNF alpha overproduction           0.625000\n",
       "Meniscal tear                                     Positive regulation of TNF alpha overproduction           0.750000\n",
       "Synovial inflammation                             Negative regulation of Chondrocytes anabolic activity     0.666667\n",
       "                                                  Negative regulation of Collagen production                0.666667\n",
       "                                                  Negative regulation of Proteoglycan production            0.666667\n",
       "                                                  Positive regulation of Chondrocytes catabolic activity    0.666667\n",
       "                                                  Positive regulation of TNF alpha overproduction           1.000000\n",
       "dtype: float64"
      ]
     },
     "execution_count": 47,
     "metadata": {},
     "output_type": "execute_result"
    }
   ],
   "source": [
    "df_full[df_full > 0.6]"
   ]
  },
  {
   "cell_type": "markdown",
   "metadata": {},
   "source": [
    "## Study them together"
   ]
  },
  {
   "cell_type": "code",
   "execution_count": 53,
   "metadata": {
    "collapsed": true
   },
   "outputs": [],
   "source": [
    "dataframe = pd.DataFrame({'sub': df_sub, 'full': df_full})"
   ]
  },
  {
   "cell_type": "code",
   "execution_count": 54,
   "metadata": {
    "collapsed": false
   },
   "outputs": [
    {
     "data": {
      "text/html": [
       "<div>\n",
       "<table border=\"1\" class=\"dataframe\">\n",
       "  <thead>\n",
       "    <tr style=\"text-align: right;\">\n",
       "      <th></th>\n",
       "      <th>full</th>\n",
       "      <th>sub</th>\n",
       "    </tr>\n",
       "  </thead>\n",
       "  <tbody>\n",
       "    <tr>\n",
       "      <th>count</th>\n",
       "      <td>174.000000</td>\n",
       "      <td>174.000000</td>\n",
       "    </tr>\n",
       "    <tr>\n",
       "      <th>mean</th>\n",
       "      <td>0.416871</td>\n",
       "      <td>0.165396</td>\n",
       "    </tr>\n",
       "    <tr>\n",
       "      <th>std</th>\n",
       "      <td>0.168516</td>\n",
       "      <td>0.278585</td>\n",
       "    </tr>\n",
       "    <tr>\n",
       "      <th>min</th>\n",
       "      <td>0.000000</td>\n",
       "      <td>0.000000</td>\n",
       "    </tr>\n",
       "    <tr>\n",
       "      <th>25%</th>\n",
       "      <td>0.343388</td>\n",
       "      <td>0.000000</td>\n",
       "    </tr>\n",
       "    <tr>\n",
       "      <th>50%</th>\n",
       "      <td>0.428571</td>\n",
       "      <td>0.000000</td>\n",
       "    </tr>\n",
       "    <tr>\n",
       "      <th>75%</th>\n",
       "      <td>0.500000</td>\n",
       "      <td>0.433333</td>\n",
       "    </tr>\n",
       "    <tr>\n",
       "      <th>max</th>\n",
       "      <td>1.000000</td>\n",
       "      <td>1.000000</td>\n",
       "    </tr>\n",
       "  </tbody>\n",
       "</table>\n",
       "</div>"
      ],
      "text/plain": [
       "             full         sub\n",
       "count  174.000000  174.000000\n",
       "mean     0.416871    0.165396\n",
       "std      0.168516    0.278585\n",
       "min      0.000000    0.000000\n",
       "25%      0.343388    0.000000\n",
       "50%      0.428571    0.000000\n",
       "75%      0.500000    0.433333\n",
       "max      1.000000    1.000000"
      ]
     },
     "execution_count": 54,
     "metadata": {},
     "output_type": "execute_result"
    }
   ],
   "source": [
    "dataframe.describe()"
   ]
  },
  {
   "cell_type": "markdown",
   "metadata": {},
   "source": [
    "### Both big confidence"
   ]
  },
  {
   "cell_type": "code",
   "execution_count": 81,
   "metadata": {
    "collapsed": true
   },
   "outputs": [],
   "source": [
    "both_big_confidence = dataframe[(dataframe['sub'] > 0.6) & (dataframe['full'] > 0.6)]"
   ]
  },
  {
   "cell_type": "code",
   "execution_count": 82,
   "metadata": {
    "collapsed": false
   },
   "outputs": [
    {
     "data": {
      "text/html": [
       "<div>\n",
       "<table border=\"1\" class=\"dataframe\">\n",
       "  <thead>\n",
       "    <tr style=\"text-align: right;\">\n",
       "      <th></th>\n",
       "      <th></th>\n",
       "      <th>full</th>\n",
       "      <th>sub</th>\n",
       "    </tr>\n",
       "  </thead>\n",
       "  <tbody>\n",
       "    <tr>\n",
       "      <th rowspan=\"3\" valign=\"top\">Cartilage degeneration</th>\n",
       "      <th>Biochemical imbalance</th>\n",
       "      <td>0.666667</td>\n",
       "      <td>0.666667</td>\n",
       "    </tr>\n",
       "    <tr>\n",
       "      <th>Negative regulation of Collagen production</th>\n",
       "      <td>0.750000</td>\n",
       "      <td>0.750000</td>\n",
       "    </tr>\n",
       "    <tr>\n",
       "      <th>Positive regulation of TNF alpha overproduction</th>\n",
       "      <td>1.000000</td>\n",
       "      <td>1.000000</td>\n",
       "    </tr>\n",
       "    <tr>\n",
       "      <th>Loss of collagen</th>\n",
       "      <th>Positive regulation of TNF alpha overproduction</th>\n",
       "      <td>0.625000</td>\n",
       "      <td>0.800000</td>\n",
       "    </tr>\n",
       "    <tr>\n",
       "      <th>Loss of proteoglycan</th>\n",
       "      <th>Positive regulation of TNF alpha overproduction</th>\n",
       "      <td>0.625000</td>\n",
       "      <td>0.800000</td>\n",
       "    </tr>\n",
       "    <tr>\n",
       "      <th rowspan=\"5\" valign=\"top\">Synovial inflammation</th>\n",
       "      <th>Negative regulation of Chondrocytes anabolic activity</th>\n",
       "      <td>0.666667</td>\n",
       "      <td>0.666667</td>\n",
       "    </tr>\n",
       "    <tr>\n",
       "      <th>Negative regulation of Collagen production</th>\n",
       "      <td>0.666667</td>\n",
       "      <td>0.666667</td>\n",
       "    </tr>\n",
       "    <tr>\n",
       "      <th>Negative regulation of Proteoglycan production</th>\n",
       "      <td>0.666667</td>\n",
       "      <td>0.666667</td>\n",
       "    </tr>\n",
       "    <tr>\n",
       "      <th>Positive regulation of Chondrocytes catabolic activity</th>\n",
       "      <td>0.666667</td>\n",
       "      <td>0.666667</td>\n",
       "    </tr>\n",
       "    <tr>\n",
       "      <th>Positive regulation of TNF alpha overproduction</th>\n",
       "      <td>1.000000</td>\n",
       "      <td>1.000000</td>\n",
       "    </tr>\n",
       "  </tbody>\n",
       "</table>\n",
       "</div>"
      ],
      "text/plain": [
       "                                                                               full  \\\n",
       "Cartilage degeneration Biochemical imbalance                               0.666667   \n",
       "                       Negative regulation of Collagen production          0.750000   \n",
       "                       Positive regulation of TNF alpha overproduction     1.000000   \n",
       "Loss of collagen       Positive regulation of TNF alpha overproduction     0.625000   \n",
       "Loss of proteoglycan   Positive regulation of TNF alpha overproduction     0.625000   \n",
       "Synovial inflammation  Negative regulation of Chondrocytes anabolic ac...  0.666667   \n",
       "                       Negative regulation of Collagen production          0.666667   \n",
       "                       Negative regulation of Proteoglycan production      0.666667   \n",
       "                       Positive regulation of Chondrocytes catabolic a...  0.666667   \n",
       "                       Positive regulation of TNF alpha overproduction     1.000000   \n",
       "\n",
       "                                                                                sub  \n",
       "Cartilage degeneration Biochemical imbalance                               0.666667  \n",
       "                       Negative regulation of Collagen production          0.750000  \n",
       "                       Positive regulation of TNF alpha overproduction     1.000000  \n",
       "Loss of collagen       Positive regulation of TNF alpha overproduction     0.800000  \n",
       "Loss of proteoglycan   Positive regulation of TNF alpha overproduction     0.800000  \n",
       "Synovial inflammation  Negative regulation of Chondrocytes anabolic ac...  0.666667  \n",
       "                       Negative regulation of Collagen production          0.666667  \n",
       "                       Negative regulation of Proteoglycan production      0.666667  \n",
       "                       Positive regulation of Chondrocytes catabolic a...  0.666667  \n",
       "                       Positive regulation of TNF alpha overproduction     1.000000  "
      ]
     },
     "execution_count": 82,
     "metadata": {},
     "output_type": "execute_result"
    }
   ],
   "source": [
    "both_big_confidence"
   ]
  },
  {
   "cell_type": "code",
   "execution_count": 95,
   "metadata": {
    "collapsed": false
   },
   "outputs": [
    {
     "name": "stdout",
     "output_type": "stream",
     "text": [
      "\\begin{tabular}{llrr}\n",
      "\\toprule\n",
      "                      &                       &      full &       sub \\\\\n",
      "\\midrule\n",
      "Cartilage degeneration & Biochemical imbalance &  0.666667 &  0.666667 \\\\\n",
      "                      & Negative regulation of Collagen production &  0.750000 &  0.750000 \\\\\n",
      "                      & Positive regulation of TNF alpha overproduction &  1.000000 &  1.000000 \\\\\n",
      "Loss of collagen &                       &  0.625000 &  0.800000 \\\\\n",
      "Loss of proteoglycan &                       &  0.625000 &  0.800000 \\\\\n",
      "Synovial inflammation & Negative regulation of Chondrocytes anabolic activity &  0.666667 &  0.666667 \\\\\n",
      "                      & Negative regulation of Collagen production &  0.666667 &  0.666667 \\\\\n",
      "                      & Negative regulation of Proteoglycan production &  0.666667 &  0.666667 \\\\\n",
      "                      & Positive regulation of Chondrocytes catabolic activity &  0.666667 &  0.666667 \\\\\n",
      "                      & Positive regulation of TNF alpha overproduction &  1.000000 &  1.000000 \\\\\n",
      "\\bottomrule\n",
      "\\end{tabular}\n",
      "\n"
     ]
    }
   ],
   "source": [
    "print(both_big_confidence.to_latex())"
   ]
  },
  {
   "cell_type": "markdown",
   "metadata": {},
   "source": [
    "### Quiet a big gap of difference"
   ]
  },
  {
   "cell_type": "code",
   "execution_count": 89,
   "metadata": {
    "collapsed": false
   },
   "outputs": [],
   "source": [
    "gap_confidence = dataframe[(dataframe['sub'] > 0.6) & (dataframe['full'] < 0.3) | \n",
    "                           (dataframe['full'] > 0.6) & (dataframe['sub'] < 0.3)]"
   ]
  },
  {
   "cell_type": "code",
   "execution_count": 90,
   "metadata": {
    "collapsed": false
   },
   "outputs": [
    {
     "data": {
      "text/html": [
       "<div>\n",
       "<table border=\"1\" class=\"dataframe\">\n",
       "  <thead>\n",
       "    <tr style=\"text-align: right;\">\n",
       "      <th></th>\n",
       "      <th></th>\n",
       "      <th>full</th>\n",
       "      <th>sub</th>\n",
       "    </tr>\n",
       "  </thead>\n",
       "  <tbody>\n",
       "    <tr>\n",
       "      <th rowspan=\"2\" valign=\"top\">Diminution of load bearing capacity of cartilage</th>\n",
       "      <th>Positive regulation of TNF alpha overproduction</th>\n",
       "      <td>0.750000</td>\n",
       "      <td>0.0</td>\n",
       "    </tr>\n",
       "    <tr>\n",
       "      <th>Synovial inflammation</th>\n",
       "      <td>0.666667</td>\n",
       "      <td>0.0</td>\n",
       "    </tr>\n",
       "    <tr>\n",
       "      <th>Meniscal tear</th>\n",
       "      <th>Positive regulation of TNF alpha overproduction</th>\n",
       "      <td>0.750000</td>\n",
       "      <td>0.0</td>\n",
       "    </tr>\n",
       "  </tbody>\n",
       "</table>\n",
       "</div>"
      ],
      "text/plain": [
       "                                                                                                      full  \\\n",
       "Diminution of load bearing capacity of cartilage Positive regulation of TNF alpha overproduction  0.750000   \n",
       "                                                 Synovial inflammation                            0.666667   \n",
       "Meniscal tear                                    Positive regulation of TNF alpha overproduction  0.750000   \n",
       "\n",
       "                                                                                                  sub  \n",
       "Diminution of load bearing capacity of cartilage Positive regulation of TNF alpha overproduction  0.0  \n",
       "                                                 Synovial inflammation                            0.0  \n",
       "Meniscal tear                                    Positive regulation of TNF alpha overproduction  0.0  "
      ]
     },
     "execution_count": 90,
     "metadata": {},
     "output_type": "execute_result"
    }
   ],
   "source": [
    "gap_confidence"
   ]
  },
  {
   "cell_type": "markdown",
   "metadata": {},
   "source": [
    "### Sub zero confidence and full OK confidence"
   ]
  },
  {
   "cell_type": "code",
   "execution_count": 65,
   "metadata": {
    "collapsed": false
   },
   "outputs": [],
   "source": [
    "sub_is_zero_full_is_quiet_good = dataframe[(dataframe['sub'] == 0) & (dataframe['full'] > 0.5)]"
   ]
  },
  {
   "cell_type": "code",
   "execution_count": 94,
   "metadata": {
    "collapsed": false
   },
   "outputs": [
    {
     "data": {
      "text/html": [
       "<div>\n",
       "<table border=\"1\" class=\"dataframe\">\n",
       "  <thead>\n",
       "    <tr style=\"text-align: right;\">\n",
       "      <th></th>\n",
       "      <th></th>\n",
       "      <th>full</th>\n",
       "      <th>sub</th>\n",
       "    </tr>\n",
       "  </thead>\n",
       "  <tbody>\n",
       "    <tr>\n",
       "      <th>Cartilage calcification</th>\n",
       "      <th>Positive regulation of TNF alpha overproduction</th>\n",
       "      <td>0.600000</td>\n",
       "      <td>0.0</td>\n",
       "    </tr>\n",
       "    <tr>\n",
       "      <th rowspan=\"7\" valign=\"top\">Diminution of load bearing capacity of cartilage</th>\n",
       "      <th>Biochemical imbalance</th>\n",
       "      <td>0.571429</td>\n",
       "      <td>0.0</td>\n",
       "    </tr>\n",
       "    <tr>\n",
       "      <th>Negative regulation of Chondrocytes anabolic activity</th>\n",
       "      <td>0.600000</td>\n",
       "      <td>0.0</td>\n",
       "    </tr>\n",
       "    <tr>\n",
       "      <th>Negative regulation of Collagen production</th>\n",
       "      <td>0.600000</td>\n",
       "      <td>0.0</td>\n",
       "    </tr>\n",
       "    <tr>\n",
       "      <th>Negative regulation of Proteoglycan production</th>\n",
       "      <td>0.600000</td>\n",
       "      <td>0.0</td>\n",
       "    </tr>\n",
       "    <tr>\n",
       "      <th>Positive regulation of Chondrocytes catabolic activity</th>\n",
       "      <td>0.600000</td>\n",
       "      <td>0.0</td>\n",
       "    </tr>\n",
       "    <tr>\n",
       "      <th>Positive regulation of TNF alpha overproduction</th>\n",
       "      <td>0.750000</td>\n",
       "      <td>0.0</td>\n",
       "    </tr>\n",
       "    <tr>\n",
       "      <th>Synovial inflammation</th>\n",
       "      <td>0.666667</td>\n",
       "      <td>0.0</td>\n",
       "    </tr>\n",
       "    <tr>\n",
       "      <th rowspan=\"5\" valign=\"top\">Meniscal tear</th>\n",
       "      <th>Biochemical imbalance</th>\n",
       "      <td>0.571429</td>\n",
       "      <td>0.0</td>\n",
       "    </tr>\n",
       "    <tr>\n",
       "      <th>Negative regulation of Collagen production</th>\n",
       "      <td>0.600000</td>\n",
       "      <td>0.0</td>\n",
       "    </tr>\n",
       "    <tr>\n",
       "      <th>Negative regulation of Proteoglycan production</th>\n",
       "      <td>0.600000</td>\n",
       "      <td>0.0</td>\n",
       "    </tr>\n",
       "    <tr>\n",
       "      <th>Positive regulation of Chondrocytes catabolic activity</th>\n",
       "      <td>0.600000</td>\n",
       "      <td>0.0</td>\n",
       "    </tr>\n",
       "    <tr>\n",
       "      <th>Positive regulation of TNF alpha overproduction</th>\n",
       "      <td>0.750000</td>\n",
       "      <td>0.0</td>\n",
       "    </tr>\n",
       "    <tr>\n",
       "      <th>Water content increase in cartilage</th>\n",
       "      <th>Positive regulation of TNF alpha overproduction</th>\n",
       "      <td>0.600000</td>\n",
       "      <td>0.0</td>\n",
       "    </tr>\n",
       "  </tbody>\n",
       "</table>\n",
       "</div>"
      ],
      "text/plain": [
       "                                                                                                         full  \\\n",
       "Cartilage calcification                          Positive regulation of TNF alpha overproduction     0.600000   \n",
       "Diminution of load bearing capacity of cartilage Biochemical imbalance                               0.571429   \n",
       "                                                 Negative regulation of Chondrocytes anabolic ac...  0.600000   \n",
       "                                                 Negative regulation of Collagen production          0.600000   \n",
       "                                                 Negative regulation of Proteoglycan production      0.600000   \n",
       "                                                 Positive regulation of Chondrocytes catabolic a...  0.600000   \n",
       "                                                 Positive regulation of TNF alpha overproduction     0.750000   \n",
       "                                                 Synovial inflammation                               0.666667   \n",
       "Meniscal tear                                    Biochemical imbalance                               0.571429   \n",
       "                                                 Negative regulation of Collagen production          0.600000   \n",
       "                                                 Negative regulation of Proteoglycan production      0.600000   \n",
       "                                                 Positive regulation of Chondrocytes catabolic a...  0.600000   \n",
       "                                                 Positive regulation of TNF alpha overproduction     0.750000   \n",
       "Water content increase in cartilage              Positive regulation of TNF alpha overproduction     0.600000   \n",
       "\n",
       "                                                                                                     sub  \n",
       "Cartilage calcification                          Positive regulation of TNF alpha overproduction     0.0  \n",
       "Diminution of load bearing capacity of cartilage Biochemical imbalance                               0.0  \n",
       "                                                 Negative regulation of Chondrocytes anabolic ac...  0.0  \n",
       "                                                 Negative regulation of Collagen production          0.0  \n",
       "                                                 Negative regulation of Proteoglycan production      0.0  \n",
       "                                                 Positive regulation of Chondrocytes catabolic a...  0.0  \n",
       "                                                 Positive regulation of TNF alpha overproduction     0.0  \n",
       "                                                 Synovial inflammation                               0.0  \n",
       "Meniscal tear                                    Biochemical imbalance                               0.0  \n",
       "                                                 Negative regulation of Collagen production          0.0  \n",
       "                                                 Negative regulation of Proteoglycan production      0.0  \n",
       "                                                 Positive regulation of Chondrocytes catabolic a...  0.0  \n",
       "                                                 Positive regulation of TNF alpha overproduction     0.0  \n",
       "Water content increase in cartilage              Positive regulation of TNF alpha overproduction     0.0  "
      ]
     },
     "execution_count": 94,
     "metadata": {},
     "output_type": "execute_result"
    }
   ],
   "source": [
    "sub_is_zero_full_is_quiet_good"
   ]
  },
  {
   "cell_type": "code",
   "execution_count": 68,
   "metadata": {
    "collapsed": false
   },
   "outputs": [
    {
     "name": "stdout",
     "output_type": "stream",
     "text": [
      "\\begin{tabular}{llrr}\n",
      "\\toprule\n",
      "                      &                       &      full &       sub \\\\\n",
      "\\midrule\n",
      "Biochemical imbalance & Decrease of cartilage elasticity &  0.500000 &  0.000000 \\\\\n",
      "                      & Knee pain &  0.500000 &  0.000000 \\\\\n",
      "Bone erosion & Joint deformation &  0.000000 &  0.000000 \\\\\n",
      "Cartilage calcification & Biochemical imbalance &  0.500000 &  0.000000 \\\\\n",
      "                      & Cartilage degeneration &  0.333333 &  0.000000 \\\\\n",
      "                      & Decrease of cartilage elasticity &  0.375000 &  0.000000 \\\\\n",
      "                      & Joint deformation &  0.222222 &  0.000000 \\\\\n",
      "                      & Knee pain &  0.285714 &  0.000000 \\\\\n",
      "                      & Loss of collagen &  0.428571 &  0.000000 \\\\\n",
      "                      & Meniscal tear &  0.250000 &  0.000000 \\\\\n",
      "                      & Negative regulation of Chondrocytes anabolic activity &  0.500000 &  0.000000 \\\\\n",
      "                      & Negative regulation of Collagen production &  0.500000 &  0.000000 \\\\\n",
      "                      & Negative regulation of Proteoglycan production &  0.500000 &  0.000000 \\\\\n",
      "                      & Positive regulation of Chondrocytes catabolic activity &  0.500000 &  0.000000 \\\\\n",
      "                      & Positive regulation of MMP13 production &  0.428571 &  0.000000 \\\\\n",
      "                      & Positive regulation of TNF alpha overproduction &  0.600000 &  0.000000 \\\\\n",
      "                      & Water content increase in cartilage &  0.444444 &  0.000000 \\\\\n",
      "Cartilage degeneration & Biochemical imbalance &  0.666667 &  0.666667 \\\\\n",
      "                      & Decrease of cartilage elasticity &  0.500000 &  0.000000 \\\\\n",
      "                      & Knee pain &  0.500000 &  0.000000 \\\\\n",
      "                      & Negative regulation of Collagen production &  0.750000 &  0.750000 \\\\\n",
      "                      & Positive regulation of TNF alpha overproduction &  1.000000 &  1.000000 \\\\\n",
      "Decrease of cartilage elasticity & Knee pain &  0.285714 &  0.000000 \\\\\n",
      "Diminution of load bearing capacity of cartilage & Biochemical imbalance &  0.571429 &  0.000000 \\\\\n",
      "                      & Cartilage degeneration &  0.500000 &  0.000000 \\\\\n",
      "                      & Decrease of cartilage elasticity &  0.428571 &  0.000000 \\\\\n",
      "                      & Joint deformation &  0.285714 &  0.000000 \\\\\n",
      "                      & Knee pain &  0.363636 &  0.000000 \\\\\n",
      "                      & Loss of collagen &  0.500000 &  0.000000 \\\\\n",
      "                      & Loss of proteoglycan &  0.500000 &  0.000000 \\\\\n",
      "                      & Meniscal tear &  0.333333 &  0.000000 \\\\\n",
      "                      & Negative regulation of Chondrocytes anabolic activity &  0.600000 &  0.000000 \\\\\n",
      "                      & Negative regulation of Collagen production &  0.600000 &  0.000000 \\\\\n",
      "                      & Negative regulation of Proteoglycan production &  0.600000 &  0.000000 \\\\\n",
      "                      & Positive regulation of Chondrocytes catabolic activity &  0.600000 &  0.000000 \\\\\n",
      "                      & Positive regulation of MMP13 production &  0.500000 &  0.000000 \\\\\n",
      "                      & Positive regulation of TNF alpha overproduction &  0.750000 &  0.000000 \\\\\n",
      "                      & Synovial inflammation &  0.666667 &  0.000000 \\\\\n",
      "                      & Water content increase in cartilage &  0.500000 &  0.000000 \\\\\n",
      "Ligamentous laxity & Joint deformation &  0.000000 &  0.000000 \\\\\n",
      "                      & Knee pain &  0.000000 &  0.000000 \\\\\n",
      "Loss of collagen & Biochemical imbalance &  0.448276 &  0.500000 \\\\\n",
      "                      & Cartilage degeneration &  0.437500 &  0.666667 \\\\\n",
      "                      & Decrease of cartilage elasticity &  0.433735 &  0.000000 \\\\\n",
      "                      & Knee pain &  0.367647 &  0.000000 \\\\\n",
      "                      & Negative regulation of Collagen production &  0.535714 &  0.666667 \\\\\n",
      "                      & Positive regulation of TNF alpha overproduction &  0.625000 &  0.800000 \\\\\n",
      "Loss of proteoglycan & Biochemical imbalance &  0.448276 &  0.500000 \\\\\n",
      "                      & Cartilage degeneration &  0.437500 &  0.666667 \\\\\n",
      "                      & Decrease of cartilage elasticity &  0.433735 &  0.000000 \\\\\n",
      "                      & Joint deformation &  0.342466 &  0.000000 \\\\\n",
      "                      & Knee pain &  0.367647 &  0.000000 \\\\\n",
      "                      & Loss of collagen &  0.468750 &  0.571429 \\\\\n",
      "                      & Meniscal tear &  0.350000 &  0.000000 \\\\\n",
      "                      & Negative regulation of Chondrocytes anabolic activity &  0.535714 &  0.666667 \\\\\n",
      "                      & Negative regulation of Collagen production &  0.535714 &  0.666667 \\\\\n",
      "                      & Negative regulation of Proteoglycan production &  0.535714 &  0.666667 \\\\\n",
      "                      & Positive regulation of Chondrocytes catabolic activity &  0.535714 &  0.666667 \\\\\n",
      "                      & Positive regulation of MMP13 production &  0.468750 &  0.571429 \\\\\n",
      "                      & Positive regulation of TNF alpha overproduction &  0.625000 &  0.800000 \\\\\n",
      "                      & Synovial inflammation &  0.550000 &  0.750000 \\\\\n",
      "                      & Water content increase in cartilage &  0.393939 &  0.000000 \\\\\n",
      "Meniscal tear & Biochemical imbalance &  0.571429 &  0.000000 \\\\\n",
      "                      & Cartilage degeneration &  0.500000 &  0.000000 \\\\\n",
      "                      & Decrease of cartilage elasticity &  0.428571 &  0.000000 \\\\\n",
      "                      & Joint deformation &  0.357895 &  0.000000 \\\\\n",
      "                      & Knee pain &  0.333333 &  0.000000 \\\\\n",
      "                      & Loss of collagen &  0.500000 &  0.000000 \\\\\n",
      "                      & Negative regulation of Collagen production &  0.600000 &  0.000000 \\\\\n",
      "                      & Negative regulation of Proteoglycan production &  0.600000 &  0.000000 \\\\\n",
      "                      & Positive regulation of Chondrocytes catabolic activity &  0.600000 &  0.000000 \\\\\n",
      "                      & Positive regulation of MMP13 production &  0.500000 &  0.000000 \\\\\n",
      "                      & Positive regulation of TNF alpha overproduction &  0.750000 &  0.000000 \\\\\n",
      "                      & Water content increase in cartilage &  0.500000 &  0.000000 \\\\\n",
      "Osteophyte formation & Joint deformation &  0.000000 &  0.000000 \\\\\n",
      "                      & Knee pain &  0.000000 &  0.000000 \\\\\n",
      "Positive regulation of Aggrecanases production & Biochemical imbalance &  0.393939 &  0.333333 \\\\\n",
      "                      & Cartilage degeneration &  0.350000 &  0.500000 \\\\\n",
      "                      & Decrease of cartilage elasticity &  0.387097 &  0.000000 \\\\\n",
      "                      & Diminution of load bearing capacity of cartilage &  0.325581 &  0.000000 \\\\\n",
      "                      & Joint deformation &  0.301205 &  0.000000 \\\\\n",
      "                      & Knee pain &  0.312500 &  0.000000 \\\\\n",
      "                      & Loss of collagen &  0.416667 &  0.500000 \\\\\n",
      "                      & Loss of proteoglycan &  0.000000 &  0.000000 \\\\\n",
      "                      & Meniscal tear &  0.291667 &  0.000000 \\\\\n",
      "                      & Negative regulation of Chondrocytes anabolic activity &  0.468750 &  0.571429 \\\\\n",
      "                      & Negative regulation of Collagen production &  0.468750 &  0.571429 \\\\\n",
      "                      & Negative regulation of Proteoglycan production &  0.468750 &  0.571429 \\\\\n",
      "                      & Positive regulation of Chondrocytes catabolic activity &  0.468750 &  0.571429 \\\\\n",
      "                      & Positive regulation of MMP13 production &  0.416667 &  0.500000 \\\\\n",
      "                      & Positive regulation of TNF alpha overproduction &  0.535714 &  0.666667 \\\\\n",
      "                      & Synovial inflammation &  0.458333 &  0.600000 \\\\\n",
      "                      & Water content increase in cartilage &  0.351351 &  0.000000 \\\\\n",
      "Positive regulation of Chondrocytes catabolic activity & Biochemical imbalance &  0.384615 &  0.285714 \\\\\n",
      "                      & Cartilage degeneration &  0.318182 &  0.444444 \\\\\n",
      "                      & Decrease of cartilage elasticity &  0.375000 &  0.000000 \\\\\n",
      "                      & Joint deformation &  0.274194 &  0.000000 \\\\\n",
      "                      & Knee pain &  0.290698 &  0.000000 \\\\\n",
      "                      & Loss of collagen &  0.410959 &  0.400000 \\\\\n",
      "                      & Negative regulation of Collagen production &  0.441176 &  0.533333 \\\\\n",
      "                      & Negative regulation of Proteoglycan production &  0.441176 &  0.533333 \\\\\n",
      "                      & Positive regulation of MMP13 production &  0.000000 &  0.000000 \\\\\n",
      "                      & Positive regulation of TNF alpha overproduction &  0.500000 &  0.615385 \\\\\n",
      "                      & Water content increase in cartilage &  0.333333 &  0.000000 \\\\\n",
      "Positive regulation of Chondrocytes hypertrophy & Biochemical imbalance &  0.390625 &  0.000000 \\\\\n",
      "                      & Cartilage degeneration &  0.288462 &  0.000000 \\\\\n",
      "                      & Decrease of cartilage elasticity &  0.346154 &  0.000000 \\\\\n",
      "                      & Joint deformation &  0.260000 &  0.000000 \\\\\n",
      "                      & Knee pain &  0.264706 &  0.000000 \\\\\n",
      "                      & Loss of collagen &  0.367347 &  0.000000 \\\\\n",
      "                      & Meniscal tear &  0.245902 &  0.000000 \\\\\n",
      "                      & Negative regulation of Chondrocytes anabolic activity &  0.407407 &  0.000000 \\\\\n",
      "                      & Negative regulation of Collagen production &  0.417722 &  0.000000 \\\\\n",
      "                      & Negative regulation of Proteoglycan production &  0.417722 &  0.000000 \\\\\n",
      "                      & Positive regulation of Chondrocytes catabolic activity &  0.417722 &  0.000000 \\\\\n",
      "                      & Positive regulation of MMP13 production &  0.360000 &  0.000000 \\\\\n",
      "                      & Positive regulation of TNF alpha overproduction &  0.471429 &  0.000000 \\\\\n",
      "                      & Water content increase in cartilage &  0.352113 &  0.000000 \\\\\n",
      "Positive regulation of MMP13 production & Biochemical imbalance &  0.393939 &  0.333333 \\\\\n",
      "                      & Cartilage degeneration &  0.350000 &  0.500000 \\\\\n",
      "                      & Decrease of cartilage elasticity &  0.387097 &  0.000000 \\\\\n",
      "                      & Joint deformation &  0.301205 &  0.000000 \\\\\n",
      "                      & Knee pain &  0.312500 &  0.000000 \\\\\n",
      "                      & Loss of collagen &  0.000000 &  0.000000 \\\\\n",
      "                      & Negative regulation of Collagen production &  0.468750 &  0.571429 \\\\\n",
      "                      & Positive regulation of TNF alpha overproduction &  0.535714 &  0.666667 \\\\\n",
      "Positive regulation of Mechanical loading & Biochemical imbalance &  0.419643 &  0.000000 \\\\\n",
      "                      & Cartilage degeneration &  0.280255 &  0.000000 \\\\\n",
      "                      & Chondrocytes apoptosis &  0.000000 &  0.000000 \\\\\n",
      "                      & Decrease of cartilage elasticity &  0.354545 &  0.000000 \\\\\n",
      "                      & Joint deformation &  0.293642 &  0.000000 \\\\\n",
      "                      & Knee pain &  0.262104 &  0.000000 \\\\\n",
      "                      & Loss of collagen &  0.379592 &  0.000000 \\\\\n",
      "                      & Loss of proteoglycan &  0.379592 &  0.000000 \\\\\n",
      "                      & Meniscal tear &  0.237569 &  0.000000 \\\\\n",
      "                      & Negative regulation of Chondrocytes anabolic activity &  0.408511 &  0.000000 \\\\\n",
      "                      & Negative regulation of Collagen production &  0.408511 &  0.000000 \\\\\n",
      "                      & Negative regulation of Proteoglycan production &  0.408511 &  0.000000 \\\\\n",
      "                      & Positive regulation of Chondrocytes anabolic activity &  0.000000 &  0.000000 \\\\\n",
      "                      & Positive regulation of Chondrocytes catabolic activity &  0.423529 &  0.000000 \\\\\n",
      "                      & Positive regulation of Collagen production &  0.000000 &  0.000000 \\\\\n",
      "                      & Positive regulation of MMP13 production &  0.375000 &  0.000000 \\\\\n",
      "                      & Positive regulation of TNF alpha overproduction &  0.459330 &  0.000000 \\\\\n",
      "                      & Synovial inflammation &  0.382514 &  0.000000 \\\\\n",
      "                      & Water content increase in cartilage &  0.373016 &  0.000000 \\\\\n",
      "Positive regulation of TNF alpha overproduction & Biochemical imbalance &  0.500000 &  0.500000 \\\\\n",
      "                      & Decrease of cartilage elasticity &  0.250000 &  0.000000 \\\\\n",
      "                      & Knee pain &  0.402174 &  0.000000 \\\\\n",
      "                      & Negative regulation of Collagen production &  0.500000 &  0.500000 \\\\\n",
      "Swelling of knee & Joint deformation &  0.000000 &  0.000000 \\\\\n",
      "Synovial inflammation & Biochemical imbalance &  0.600000 &  0.600000 \\\\\n",
      "                      & Cartilage degeneration &  0.535714 &  0.666667 \\\\\n",
      "                      & Decrease of cartilage elasticity &  0.400000 &  0.000000 \\\\\n",
      "                      & Joint deformation &  0.322368 &  0.000000 \\\\\n",
      "                      & Knee pain &  0.441463 &  0.000000 \\\\\n",
      "                      & Loss of collagen &  0.500000 &  0.500000 \\\\\n",
      "                      & Meniscal tear &  0.468750 &  0.000000 \\\\\n",
      "                      & Negative regulation of Chondrocytes anabolic activity &  0.666667 &  0.666667 \\\\\n",
      "                      & Negative regulation of Collagen production &  0.666667 &  0.666667 \\\\\n",
      "                      & Negative regulation of Proteoglycan production &  0.666667 &  0.666667 \\\\\n",
      "                      & Positive regulation of Chondrocytes catabolic activity &  0.666667 &  0.666667 \\\\\n",
      "                      & Positive regulation of MMP13 production &  0.500000 &  0.500000 \\\\\n",
      "                      & Positive regulation of TNF alpha overproduction &  1.000000 &  1.000000 \\\\\n",
      "                      & Water content increase in cartilage &  0.500000 &  0.000000 \\\\\n",
      "Water content increase in cartilage & Biochemical imbalance &  0.500000 &  0.000000 \\\\\n",
      "                      & Cartilage degeneration &  0.333333 &  0.000000 \\\\\n",
      "                      & Decrease of cartilage elasticity &  0.375000 &  0.000000 \\\\\n",
      "                      & Joint deformation &  0.222222 &  0.000000 \\\\\n",
      "                      & Knee pain &  0.285714 &  0.000000 \\\\\n",
      "                      & Loss of collagen &  0.428571 &  0.000000 \\\\\n",
      "                      & Negative regulation of Collagen production &  0.500000 &  0.000000 \\\\\n",
      "                      & Negative regulation of Proteoglycan production &  0.500000 &  0.000000 \\\\\n",
      "                      & Positive regulation of MMP13 production &  0.428571 &  0.000000 \\\\\n",
      "                      & Positive regulation of TNF alpha overproduction &  0.600000 &  0.000000 \\\\\n",
      "\\bottomrule\n",
      "\\end{tabular}\n",
      "\n"
     ]
    }
   ],
   "source": [
    "print(dataframe.to_latex())"
   ]
  },
  {
   "cell_type": "code",
   "execution_count": 67,
   "metadata": {
    "collapsed": false
   },
   "outputs": [
    {
     "name": "stdout",
     "output_type": "stream",
     "text": [
      "\\begin{tabular}{llrr}\n",
      "\\toprule\n",
      "                      &                       &      full &  sub \\\\\n",
      "\\midrule\n",
      "Cartilage calcification & Positive regulation of TNF alpha overproduction &  0.600000 &  0.0 \\\\\n",
      "Diminution of load bearing capacity of cartilage & Biochemical imbalance &  0.571429 &  0.0 \\\\\n",
      "                      & Negative regulation of Chondrocytes anabolic activity &  0.600000 &  0.0 \\\\\n",
      "                      & Negative regulation of Collagen production &  0.600000 &  0.0 \\\\\n",
      "                      & Negative regulation of Proteoglycan production &  0.600000 &  0.0 \\\\\n",
      "                      & Positive regulation of Chondrocytes catabolic activity &  0.600000 &  0.0 \\\\\n",
      "                      & Positive regulation of TNF alpha overproduction &  0.750000 &  0.0 \\\\\n",
      "                      & Synovial inflammation &  0.666667 &  0.0 \\\\\n",
      "Meniscal tear & Biochemical imbalance &  0.571429 &  0.0 \\\\\n",
      "                      & Negative regulation of Collagen production &  0.600000 &  0.0 \\\\\n",
      "                      & Negative regulation of Proteoglycan production &  0.600000 &  0.0 \\\\\n",
      "                      & Positive regulation of Chondrocytes catabolic activity &  0.600000 &  0.0 \\\\\n",
      "                      & Positive regulation of TNF alpha overproduction &  0.750000 &  0.0 \\\\\n",
      "Water content increase in cartilage &                       &  0.600000 &  0.0 \\\\\n",
      "\\bottomrule\n",
      "\\end{tabular}\n",
      "\n"
     ]
    }
   ],
   "source": [
    "print(sub_is_zero_full_is_quiet_good.to_latex())"
   ]
  },
  {
   "cell_type": "markdown",
   "metadata": {},
   "source": [
    "### Small confidence full, good in sub "
   ]
  },
  {
   "cell_type": "code",
   "execution_count": 100,
   "metadata": {
    "collapsed": false
   },
   "outputs": [
    {
     "data": {
      "text/html": [
       "<div>\n",
       "<table border=\"1\" class=\"dataframe\">\n",
       "  <thead>\n",
       "    <tr style=\"text-align: right;\">\n",
       "      <th></th>\n",
       "      <th></th>\n",
       "      <th>full</th>\n",
       "      <th>sub</th>\n",
       "    </tr>\n",
       "  </thead>\n",
       "  <tbody>\n",
       "    <tr>\n",
       "      <th>Loss of collagen</th>\n",
       "      <th>Cartilage degeneration</th>\n",
       "      <td>0.437500</td>\n",
       "      <td>0.666667</td>\n",
       "    </tr>\n",
       "    <tr>\n",
       "      <th rowspan=\"3\" valign=\"top\">Loss of proteoglycan</th>\n",
       "      <th>Cartilage degeneration</th>\n",
       "      <td>0.437500</td>\n",
       "      <td>0.666667</td>\n",
       "    </tr>\n",
       "    <tr>\n",
       "      <th>Loss of collagen</th>\n",
       "      <td>0.468750</td>\n",
       "      <td>0.571429</td>\n",
       "    </tr>\n",
       "    <tr>\n",
       "      <th>Positive regulation of MMP13 production</th>\n",
       "      <td>0.468750</td>\n",
       "      <td>0.571429</td>\n",
       "    </tr>\n",
       "    <tr>\n",
       "      <th rowspan=\"5\" valign=\"top\">Positive regulation of Aggrecanases production</th>\n",
       "      <th>Negative regulation of Chondrocytes anabolic activity</th>\n",
       "      <td>0.468750</td>\n",
       "      <td>0.571429</td>\n",
       "    </tr>\n",
       "    <tr>\n",
       "      <th>Negative regulation of Collagen production</th>\n",
       "      <td>0.468750</td>\n",
       "      <td>0.571429</td>\n",
       "    </tr>\n",
       "    <tr>\n",
       "      <th>Negative regulation of Proteoglycan production</th>\n",
       "      <td>0.468750</td>\n",
       "      <td>0.571429</td>\n",
       "    </tr>\n",
       "    <tr>\n",
       "      <th>Positive regulation of Chondrocytes catabolic activity</th>\n",
       "      <td>0.468750</td>\n",
       "      <td>0.571429</td>\n",
       "    </tr>\n",
       "    <tr>\n",
       "      <th>Synovial inflammation</th>\n",
       "      <td>0.458333</td>\n",
       "      <td>0.600000</td>\n",
       "    </tr>\n",
       "    <tr>\n",
       "      <th rowspan=\"2\" valign=\"top\">Positive regulation of Chondrocytes catabolic activity</th>\n",
       "      <th>Negative regulation of Collagen production</th>\n",
       "      <td>0.441176</td>\n",
       "      <td>0.533333</td>\n",
       "    </tr>\n",
       "    <tr>\n",
       "      <th>Negative regulation of Proteoglycan production</th>\n",
       "      <td>0.441176</td>\n",
       "      <td>0.533333</td>\n",
       "    </tr>\n",
       "    <tr>\n",
       "      <th>Positive regulation of MMP13 production</th>\n",
       "      <th>Negative regulation of Collagen production</th>\n",
       "      <td>0.468750</td>\n",
       "      <td>0.571429</td>\n",
       "    </tr>\n",
       "  </tbody>\n",
       "</table>\n",
       "</div>"
      ],
      "text/plain": [
       "                                                                                                           full  \\\n",
       "Loss of collagen                                   Cartilage degeneration                              0.437500   \n",
       "Loss of proteoglycan                               Cartilage degeneration                              0.437500   \n",
       "                                                   Loss of collagen                                    0.468750   \n",
       "                                                   Positive regulation of MMP13 production             0.468750   \n",
       "Positive regulation of Aggrecanases production     Negative regulation of Chondrocytes anabolic ac...  0.468750   \n",
       "                                                   Negative regulation of Collagen production          0.468750   \n",
       "                                                   Negative regulation of Proteoglycan production      0.468750   \n",
       "                                                   Positive regulation of Chondrocytes catabolic a...  0.468750   \n",
       "                                                   Synovial inflammation                               0.458333   \n",
       "Positive regulation of Chondrocytes catabolic a... Negative regulation of Collagen production          0.441176   \n",
       "                                                   Negative regulation of Proteoglycan production      0.441176   \n",
       "Positive regulation of MMP13 production            Negative regulation of Collagen production          0.468750   \n",
       "\n",
       "                                                                                                            sub  \n",
       "Loss of collagen                                   Cartilage degeneration                              0.666667  \n",
       "Loss of proteoglycan                               Cartilage degeneration                              0.666667  \n",
       "                                                   Loss of collagen                                    0.571429  \n",
       "                                                   Positive regulation of MMP13 production             0.571429  \n",
       "Positive regulation of Aggrecanases production     Negative regulation of Chondrocytes anabolic ac...  0.571429  \n",
       "                                                   Negative regulation of Collagen production          0.571429  \n",
       "                                                   Negative regulation of Proteoglycan production      0.571429  \n",
       "                                                   Positive regulation of Chondrocytes catabolic a...  0.571429  \n",
       "                                                   Synovial inflammation                               0.600000  \n",
       "Positive regulation of Chondrocytes catabolic a... Negative regulation of Collagen production          0.533333  \n",
       "                                                   Negative regulation of Proteoglycan production      0.533333  \n",
       "Positive regulation of MMP13 production            Negative regulation of Collagen production          0.571429  "
      ]
     },
     "execution_count": 100,
     "metadata": {},
     "output_type": "execute_result"
    }
   ],
   "source": [
    "small_full_good_sub = dataframe[(dataframe['sub'] > 0.5) & (dataframe['full'] < 0.5)]\n",
    "small_full_good_sub"
   ]
  }
 ],
 "metadata": {
  "kernelspec": {
   "display_name": "Python 2",
   "language": "python",
   "name": "python2"
  },
  "language_info": {
   "codemirror_mode": {
    "name": "ipython",
    "version": 2
   },
   "file_extension": ".py",
   "mimetype": "text/x-python",
   "name": "python",
   "nbconvert_exporter": "python",
   "pygments_lexer": "ipython2",
   "version": "2.7.13"
  }
 },
 "nbformat": 4,
 "nbformat_minor": 2
}
