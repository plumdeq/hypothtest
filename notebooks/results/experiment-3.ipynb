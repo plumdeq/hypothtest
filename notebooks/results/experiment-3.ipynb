{
 "cells": [
  {
   "cell_type": "markdown",
   "metadata": {},
   "source": [
    "# Experiment III: Local importance"
   ]
  },
  {
   "cell_type": "code",
   "execution_count": 1,
   "metadata": {
    "collapsed": false
   },
   "outputs": [],
   "source": [
    "%load_ext autoreload\n",
    "%autoreload 2"
   ]
  },
  {
   "cell_type": "code",
   "execution_count": 2,
   "metadata": {
    "collapsed": false
   },
   "outputs": [
    {
     "name": "stdout",
     "output_type": "stream",
     "text": [
      "Populating the interactive namespace from numpy and matplotlib\n"
     ]
    }
   ],
   "source": [
    "%pylab inline"
   ]
  },
  {
   "cell_type": "markdown",
   "metadata": {},
   "source": [
    "## Prepare graphs"
   ]
  },
  {
   "cell_type": "code",
   "execution_count": 3,
   "metadata": {
    "collapsed": false
   },
   "outputs": [
    {
     "name": "stderr",
     "output_type": "stream",
     "text": [
      "INFO:rdflib:RDFLib Version: 4.2.1\n"
     ]
    }
   ],
   "source": [
    "from hypotest.ontologies import molecular_subgraph, full_graph\n",
    "from grontocrawler.graph import produce_graph\n",
    "from hypotest.graph_mutation import normalize_hypothgraph"
   ]
  },
  {
   "cell_type": "code",
   "execution_count": 4,
   "metadata": {
    "collapsed": true
   },
   "outputs": [],
   "source": [
    "sub_onto = molecular_subgraph.g\n",
    "full_onto = full_graph.g"
   ]
  },
  {
   "cell_type": "code",
   "execution_count": 5,
   "metadata": {
    "collapsed": true
   },
   "outputs": [],
   "source": [
    "sub_unnorm = produce_graph.produce_graph(sub_onto, options=['existential-arcs'])\n",
    "full_unnorm = produce_graph.produce_graph(full_onto, options=['existential-arcs'])"
   ]
  },
  {
   "cell_type": "code",
   "execution_count": 6,
   "metadata": {
    "collapsed": true
   },
   "outputs": [],
   "source": [
    "sub_norm, _ = normalize_hypothgraph.normalize_hypothgraph(sub_unnorm)\n",
    "full_norm, _ = normalize_hypothgraph.normalize_hypothgraph(full_unnorm)"
   ]
  },
  {
   "cell_type": "markdown",
   "metadata": {},
   "source": [
    "## Configuration"
   ]
  },
  {
   "cell_type": "code",
   "execution_count": 7,
   "metadata": {
    "collapsed": true
   },
   "outputs": [],
   "source": [
    "import networkx as nx"
   ]
  },
  {
   "cell_type": "code",
   "execution_count": 8,
   "metadata": {
    "collapsed": false
   },
   "outputs": [],
   "source": [
    "from hypotest.graph_generation import hypoth_conf"
   ]
  },
  {
   "cell_type": "code",
   "execution_count": 9,
   "metadata": {
    "collapsed": true
   },
   "outputs": [],
   "source": [
    "Hypoth_Conf = hypoth_conf.Hypoth_Conf"
   ]
  },
  {
   "cell_type": "code",
   "execution_count": 10,
   "metadata": {
    "collapsed": false
   },
   "outputs": [
    {
     "name": "stdout",
     "output_type": "stream",
     "text": [
      "('http://plumdeq.xyz/ontologies/hypothesis/Synovial_inflammation', 'http://plumdeq.xyz/ontologies/hypothesis/Cartilage_degeneration')\n"
     ]
    }
   ],
   "source": [
    "conf_source, conf_target = hypoth_conf.generate_max_endpoints(sub_norm)\n",
    "print(conf_source, conf_target)"
   ]
  },
  {
   "cell_type": "code",
   "execution_count": 11,
   "metadata": {
    "collapsed": false
   },
   "outputs": [
    {
     "name": "stdout",
     "output_type": "stream",
     "text": [
      "Number of paths in the subgraph is 6\n"
     ]
    }
   ],
   "source": [
    "nb_sub = len(list(nx.all_simple_paths(sub_norm, conf_source, conf_target)))\n",
    "print('Number of paths in the subgraph is {}'.format(nb_sub))"
   ]
  },
  {
   "cell_type": "code",
   "execution_count": 12,
   "metadata": {
    "collapsed": false
   },
   "outputs": [
    {
     "name": "stdout",
     "output_type": "stream",
     "text": [
      "Number of paths in the full graph is 24\n"
     ]
    }
   ],
   "source": [
    "nb_full = len(list(nx.all_simple_paths(full_norm, conf_source, conf_target)))\n",
    "print('Number of paths in the full graph is {}'.format(nb_full))"
   ]
  },
  {
   "cell_type": "markdown",
   "metadata": {},
   "source": [
    "## Local importance with confidence function"
   ]
  },
  {
   "cell_type": "code",
   "execution_count": 14,
   "metadata": {
    "collapsed": true
   },
   "outputs": [],
   "source": [
    "from hypotest.graph_generation import boundary"
   ]
  },
  {
   "cell_type": "code",
   "execution_count": 16,
   "metadata": {
    "collapsed": false
   },
   "outputs": [],
   "source": [
    "sub_interior = list(boundary.in_boundary_interior(sub_norm, conf_source, conf_target))\n",
    "full_interior = list(boundary.in_boundary_interior(full_norm, conf_source, conf_target))"
   ]
  },
  {
   "cell_type": "markdown",
   "metadata": {},
   "source": [
    "### Incrementally add evidences and compute confidence"
   ]
  },
  {
   "cell_type": "code",
   "execution_count": 19,
   "metadata": {
    "collapsed": true
   },
   "outputs": [],
   "source": [
    "from hypotest.confidence import compute_confidence"
   ]
  },
  {
   "cell_type": "markdown",
   "metadata": {},
   "source": [
    "`compute_confidence(hypothgraph, hypoth_conf)`"
   ]
  },
  {
   "cell_type": "code",
   "execution_count": 29,
   "metadata": {
    "collapsed": false
   },
   "outputs": [],
   "source": [
    "contributions_in_sub = {}\n",
    "contributions_in_full = {}\n",
    "evidence_list = []\n",
    "for to_evidence in full_interior:\n",
    "    new_conf = Hypoth_Conf(conf_source, conf_target, [to_evidence])\n",
    "    node_label = full_norm.node[to_evidence]['label']\n",
    "    contributions_in_sub[node_label] = compute_confidence.normalized_confidence(sub_norm, new_conf)\n",
    "    contributions_in_full[node_label] = compute_confidence.normalized_confidence(full_norm, new_conf)"
   ]
  },
  {
   "cell_type": "code",
   "execution_count": 40,
   "metadata": {
    "collapsed": true
   },
   "outputs": [],
   "source": [
    "from operator import itemgetter"
   ]
  },
  {
   "cell_type": "markdown",
   "metadata": {},
   "source": [
    "#### Subgraph confidence contributions"
   ]
  },
  {
   "cell_type": "code",
   "execution_count": 34,
   "metadata": {
    "collapsed": false
   },
   "outputs": [
    {
     "name": "stdout",
     "output_type": "stream",
     "text": [
      "Subgraph knows about:\n",
      "Positive regulation of MMP13 production\n",
      "Synovial inflammation\n",
      "Biochemical imbalance\n",
      "Loss of collagen\n",
      "Positive regulation of Aggrecanases production\n",
      "Positive regulation of Chondrocytes catabolic activity\n",
      "Cartilage degeneration\n",
      "Loss of proteoglycan\n",
      "Positive regulation of TNF alpha overproduction\n"
     ]
    }
   ],
   "source": [
    "print('Subgraph knows about:')\n",
    "for node in sub_interior:\n",
    "    print(sub_norm.node[node]['label'])"
   ]
  },
  {
   "cell_type": "code",
   "execution_count": 30,
   "metadata": {
    "collapsed": false
   },
   "outputs": [
    {
     "data": {
      "text/plain": [
       "{'Biochemical imbalance': 0.16666666666666666,\n",
       " 'Cartilage degeneration': 0.16666666666666666,\n",
       " 'Decrease of cartilage elasticity': 0.0,\n",
       " 'Diminution of load bearing capacity of cartilage': 0.0,\n",
       " 'Loss of collagen': 0.08333333333333333,\n",
       " 'Loss of proteoglycan': 0.08333333333333333,\n",
       " 'Positive regulation of Aggrecanases production': 0.027777777777777776,\n",
       " 'Positive regulation of Chondrocytes catabolic activity': 0.1111111111111111,\n",
       " 'Positive regulation of MMP13 production': 0.027777777777777776,\n",
       " 'Positive regulation of TNF alpha overproduction': 0.16666666666666666,\n",
       " 'Synovial inflammation': 0.16666666666666666,\n",
       " 'Water content increase in cartilage': 0.0}"
      ]
     },
     "execution_count": 30,
     "metadata": {},
     "output_type": "execute_result"
    }
   ],
   "source": [
    "contributions_in_sub"
   ]
  },
  {
   "cell_type": "markdown",
   "metadata": {},
   "source": [
    "#### Full graph contributions"
   ]
  },
  {
   "cell_type": "code",
   "execution_count": 37,
   "metadata": {
    "collapsed": false
   },
   "outputs": [
    {
     "data": {
      "text/plain": [
       "{'Biochemical imbalance': 0.10714285714285714,\n",
       " 'Cartilage degeneration': 0.14285714285714285,\n",
       " 'Decrease of cartilage elasticity': 0.03571428571428571,\n",
       " 'Diminution of load bearing capacity of cartilage': 0.10714285714285714,\n",
       " 'Loss of collagen': 0.07142857142857142,\n",
       " 'Loss of proteoglycan': 0.07142857142857142,\n",
       " 'Positive regulation of Aggrecanases production': 0.023809523809523808,\n",
       " 'Positive regulation of Chondrocytes catabolic activity': 0.09523809523809523,\n",
       " 'Positive regulation of MMP13 production': 0.023809523809523808,\n",
       " 'Positive regulation of TNF alpha overproduction': 0.14285714285714285,\n",
       " 'Synovial inflammation': 0.14285714285714285,\n",
       " 'Water content increase in cartilage': 0.03571428571428571}"
      ]
     },
     "execution_count": 37,
     "metadata": {},
     "output_type": "execute_result"
    }
   ],
   "source": [
    "contributions_in_full"
   ]
  },
  {
   "cell_type": "markdown",
   "metadata": {},
   "source": [
    "## Sorted contributions"
   ]
  },
  {
   "cell_type": "code",
   "execution_count": 43,
   "metadata": {
    "collapsed": false
   },
   "outputs": [
    {
     "data": {
      "text/plain": [
       "[('Synovial inflammation', 0.14285714285714285),\n",
       " ('Positive regulation of TNF alpha overproduction', 0.14285714285714285),\n",
       " ('Cartilage degeneration', 0.14285714285714285),\n",
       " ('Diminution of load bearing capacity of cartilage', 0.10714285714285714),\n",
       " ('Biochemical imbalance', 0.10714285714285714),\n",
       " ('Positive regulation of Chondrocytes catabolic activity',\n",
       "  0.09523809523809523),\n",
       " ('Loss of proteoglycan', 0.07142857142857142),\n",
       " ('Loss of collagen', 0.07142857142857142),\n",
       " ('Water content increase in cartilage', 0.03571428571428571),\n",
       " ('Decrease of cartilage elasticity', 0.03571428571428571),\n",
       " ('Positive regulation of Aggrecanases production', 0.023809523809523808),\n",
       " ('Positive regulation of MMP13 production', 0.023809523809523808)]"
      ]
     },
     "execution_count": 43,
     "metadata": {},
     "output_type": "execute_result"
    }
   ],
   "source": [
    "sorted(contributions_in_full.items(), key=itemgetter(1), reverse=True)"
   ]
  },
  {
   "cell_type": "code",
   "execution_count": 44,
   "metadata": {
    "collapsed": false
   },
   "outputs": [
    {
     "data": {
      "text/plain": [
       "[('Biochemical imbalance', 0.16666666666666666),\n",
       " ('Synovial inflammation', 0.16666666666666666),\n",
       " ('Positive regulation of TNF alpha overproduction', 0.16666666666666666),\n",
       " ('Cartilage degeneration', 0.16666666666666666),\n",
       " ('Positive regulation of Chondrocytes catabolic activity',\n",
       "  0.1111111111111111),\n",
       " ('Loss of proteoglycan', 0.08333333333333333),\n",
       " ('Loss of collagen', 0.08333333333333333),\n",
       " ('Positive regulation of Aggrecanases production', 0.027777777777777776),\n",
       " ('Positive regulation of MMP13 production', 0.027777777777777776),\n",
       " ('Water content increase in cartilage', 0.0),\n",
       " ('Diminution of load bearing capacity of cartilage', 0.0),\n",
       " ('Decrease of cartilage elasticity', 0.0)]"
      ]
     },
     "execution_count": 44,
     "metadata": {},
     "output_type": "execute_result"
    }
   ],
   "source": [
    "sorted(contributions_in_sub.items(), key=itemgetter(1), reverse=True)"
   ]
  },
  {
   "cell_type": "markdown",
   "metadata": {},
   "source": [
    "### Accumulated confidences"
   ]
  },
  {
   "cell_type": "markdown",
   "metadata": {},
   "source": [
    "How much we miss when we lack knowledge"
   ]
  },
  {
   "cell_type": "code",
   "execution_count": 47,
   "metadata": {
    "collapsed": true
   },
   "outputs": [],
   "source": [
    "missed_knowledge = {}\n",
    "\n",
    "for node in contributions_in_full:\n",
    "    missed_knowledge[node] = contributions_in_sub[node] - contributions_in_full[node]"
   ]
  },
  {
   "cell_type": "code",
   "execution_count": 48,
   "metadata": {
    "collapsed": false
   },
   "outputs": [
    {
     "data": {
      "text/plain": [
       "[('Biochemical imbalance', 0.05952380952380952),\n",
       " ('Synovial inflammation', 0.023809523809523808),\n",
       " ('Positive regulation of TNF alpha overproduction', 0.023809523809523808),\n",
       " ('Cartilage degeneration', 0.023809523809523808),\n",
       " ('Positive regulation of Chondrocytes catabolic activity',\n",
       "  0.015873015873015872),\n",
       " ('Loss of proteoglycan', 0.011904761904761904),\n",
       " ('Loss of collagen', 0.011904761904761904),\n",
       " ('Positive regulation of MMP13 production', 0.003968253968253968),\n",
       " ('Positive regulation of Aggrecanases production', 0.003968253968253968),\n",
       " ('Water content increase in cartilage', -0.03571428571428571),\n",
       " ('Decrease of cartilage elasticity', -0.03571428571428571),\n",
       " ('Diminution of load bearing capacity of cartilage', -0.10714285714285714)]"
      ]
     },
     "execution_count": 48,
     "metadata": {},
     "output_type": "execute_result"
    }
   ],
   "source": [
    "sorted(missed_knowledge.items(), key=itemgetter(1), reverse=True)"
   ]
  },
  {
   "cell_type": "markdown",
   "metadata": {},
   "source": [
    "## Plot the results"
   ]
  },
  {
   "cell_type": "code",
   "execution_count": 49,
   "metadata": {
    "collapsed": true
   },
   "outputs": [],
   "source": [
    "import matplotlib.pyplot as plt"
   ]
  },
  {
   "cell_type": "code",
   "execution_count": 58,
   "metadata": {
    "collapsed": true
   },
   "outputs": [],
   "source": [
    "height = 0.5"
   ]
  },
  {
   "cell_type": "code",
   "execution_count": 60,
   "metadata": {
    "collapsed": true
   },
   "outputs": [],
   "source": [
    "full_pos = np.arange(len(contributions_in_full.values()))"
   ]
  },
  {
   "cell_type": "code",
   "execution_count": 61,
   "metadata": {
    "collapsed": true
   },
   "outputs": [],
   "source": [
    "sub_pos = [x+height for x in full_pos]"
   ]
  },
  {
   "cell_type": "code",
   "execution_count": 70,
   "metadata": {
    "collapsed": false
   },
   "outputs": [
    {
     "data": {
      "text/plain": [
       "[<matplotlib.text.Text at 0x10cf42c50>,\n",
       " <matplotlib.text.Text at 0x10ce6d8d0>,\n",
       " <matplotlib.text.Text at 0x10c7eb910>,\n",
       " <matplotlib.text.Text at 0x10c7d9f10>,\n",
       " <matplotlib.text.Text at 0x10c7fc990>,\n",
       " <matplotlib.text.Text at 0x10c6a3b10>,\n",
       " <matplotlib.text.Text at 0x10c6a3c90>]"
      ]
     },
     "execution_count": 70,
     "metadata": {},
     "output_type": "execute_result"
    },
    {
     "data": {
      "image/png": "[encoded data removed]",
      "text/plain": [
       "<matplotlib.figure.Figure at 0x10d10f210>"
      ]
     },
     "metadata": {},
     "output_type": "display_data"
    }
   ],
   "source": [
    "fig, ax = plt.subplots(nrows=1, ncols=1)\n",
    "ax.barh(full_pos, contributions_in_full.values(), color=\"g\", height=height)\n",
    "ax.barh(sub_pos, contributions_in_sub.values(), color=\"b\", height=height)\n",
    "ax.set_yticklabels(contributions_in_full.keys())"
   ]
  },
  {
   "cell_type": "code",
   "execution_count": 71,
   "metadata": {
    "collapsed": false
   },
   "outputs": [
    {
     "data": {
      "text/plain": [
       "['Positive regulation of Aggrecanases production',\n",
       " 'Water content increase in cartilage',\n",
       " 'Diminution of load bearing capacity of cartilage',\n",
       " 'Positive regulation of MMP13 production',\n",
       " 'Biochemical imbalance',\n",
       " 'Synovial inflammation',\n",
       " 'Loss of proteoglycan',\n",
       " 'Loss of collagen',\n",
       " 'Decrease of cartilage elasticity',\n",
       " 'Positive regulation of Chondrocytes catabolic activity',\n",
       " 'Positive regulation of TNF alpha overproduction',\n",
       " 'Cartilage degeneration']"
      ]
     },
     "execution_count": 71,
     "metadata": {},
     "output_type": "execute_result"
    }
   ],
   "source": [
    "contributions_in_full.keys()"
   ]
  },
  {
   "cell_type": "code",
   "execution_count": 73,
   "metadata": {
    "collapsed": true
   },
   "outputs": [],
   "source": [
    "import pandas as pd"
   ]
  },
  {
   "cell_type": "code",
   "execution_count": 78,
   "metadata": {
    "collapsed": true
   },
   "outputs": [],
   "source": [
    "sub_contributions = pd.Series(contributions_in_sub)\n",
    "full_contributions = pd.Series(contributions_in_full)"
   ]
  },
  {
   "cell_type": "code",
   "execution_count": 95,
   "metadata": {
    "collapsed": false
   },
   "outputs": [
    {
     "data": {
      "text/html": [
       "<div>\n",
       "<table border=\"1\" class=\"dataframe\">\n",
       "  <thead>\n",
       "    <tr style=\"text-align: right;\">\n",
       "      <th></th>\n",
       "      <th>$H_{full}$</th>\n",
       "      <th>$H_{sub}$</th>\n",
       "    </tr>\n",
       "  </thead>\n",
       "  <tbody>\n",
       "    <tr>\n",
       "      <th>Biochemical imbalance</th>\n",
       "      <td>0.107143</td>\n",
       "      <td>0.166667</td>\n",
       "    </tr>\n",
       "    <tr>\n",
       "      <th>Cartilage degeneration</th>\n",
       "      <td>0.142857</td>\n",
       "      <td>0.166667</td>\n",
       "    </tr>\n",
       "    <tr>\n",
       "      <th>Decrease of cartilage elasticity</th>\n",
       "      <td>0.035714</td>\n",
       "      <td>0.000000</td>\n",
       "    </tr>\n",
       "    <tr>\n",
       "      <th>Diminution of load bearing capacity of cartilage</th>\n",
       "      <td>0.107143</td>\n",
       "      <td>0.000000</td>\n",
       "    </tr>\n",
       "    <tr>\n",
       "      <th>Loss of collagen</th>\n",
       "      <td>0.071429</td>\n",
       "      <td>0.083333</td>\n",
       "    </tr>\n",
       "    <tr>\n",
       "      <th>Loss of proteoglycan</th>\n",
       "      <td>0.071429</td>\n",
       "      <td>0.083333</td>\n",
       "    </tr>\n",
       "    <tr>\n",
       "      <th>Positive regulation of Aggrecanases production</th>\n",
       "      <td>0.023810</td>\n",
       "      <td>0.027778</td>\n",
       "    </tr>\n",
       "    <tr>\n",
       "      <th>Positive regulation of Chondrocytes catabolic activity</th>\n",
       "      <td>0.095238</td>\n",
       "      <td>0.111111</td>\n",
       "    </tr>\n",
       "    <tr>\n",
       "      <th>Positive regulation of MMP13 production</th>\n",
       "      <td>0.023810</td>\n",
       "      <td>0.027778</td>\n",
       "    </tr>\n",
       "    <tr>\n",
       "      <th>Positive regulation of TNF alpha overproduction</th>\n",
       "      <td>0.142857</td>\n",
       "      <td>0.166667</td>\n",
       "    </tr>\n",
       "    <tr>\n",
       "      <th>Synovial inflammation</th>\n",
       "      <td>0.142857</td>\n",
       "      <td>0.166667</td>\n",
       "    </tr>\n",
       "    <tr>\n",
       "      <th>Water content increase in cartilage</th>\n",
       "      <td>0.035714</td>\n",
       "      <td>0.000000</td>\n",
       "    </tr>\n",
       "  </tbody>\n",
       "</table>\n",
       "</div>"
      ],
      "text/plain": [
       "                                                    $H_{full}$  $H_{sub}$\n",
       "Biochemical imbalance                                 0.107143   0.166667\n",
       "Cartilage degeneration                                0.142857   0.166667\n",
       "Decrease of cartilage elasticity                      0.035714   0.000000\n",
       "Diminution of load bearing capacity of cartilage      0.107143   0.000000\n",
       "Loss of collagen                                      0.071429   0.083333\n",
       "Loss of proteoglycan                                  0.071429   0.083333\n",
       "Positive regulation of Aggrecanases production        0.023810   0.027778\n",
       "Positive regulation of Chondrocytes catabolic a...    0.095238   0.111111\n",
       "Positive regulation of MMP13 production               0.023810   0.027778\n",
       "Positive regulation of TNF alpha overproduction       0.142857   0.166667\n",
       "Synovial inflammation                                 0.142857   0.166667\n",
       "Water content increase in cartilage                   0.035714   0.000000"
      ]
     },
     "execution_count": 95,
     "metadata": {},
     "output_type": "execute_result"
    }
   ],
   "source": [
    "data = pd.DataFrame({'$H_{sub}$': sub_contributions, '$H_{full}$': full_contributions})\n",
    "data"
   ]
  },
  {
   "cell_type": "code",
   "execution_count": 114,
   "metadata": {
    "collapsed": false
   },
   "outputs": [
    {
     "data": {
      "image/png": "[encoded data removed]",
      "text/plain": [
       "<matplotlib.figure.Figure at 0x10fa7c890>"
      ]
     },
     "metadata": {},
     "output_type": "display_data"
    }
   ],
   "source": [
    "plot = data.plot.barh(title=\"Contributions to $C_s^t$ per factor\")"
   ]
  },
  {
   "cell_type": "markdown",
   "metadata": {},
   "source": [
    "### Save figure"
   ]
  },
  {
   "cell_type": "code",
   "execution_count": 100,
   "metadata": {
    "collapsed": true
   },
   "outputs": [],
   "source": [
    "import os"
   ]
  },
  {
   "cell_type": "code",
   "execution_count": 102,
   "metadata": {
    "collapsed": true
   },
   "outputs": [],
   "source": [
    "path_to_images = os.path.abspath('../images/results-paper/exp3-rel-conf/')"
   ]
  },
  {
   "cell_type": "code",
   "execution_count": 115,
   "metadata": {
    "collapsed": false
   },
   "outputs": [],
   "source": [
    "fig = plot.get_figure()\n",
    "fig.savefig(os.path.join(path_to_images, 'local_importance.pdf'), bbox_inches='tight')"
   ]
  }
 ],
 "metadata": {
  "kernelspec": {
   "display_name": "Python 2",
   "language": "python",
   "name": "python2"
  },
  "language_info": {
   "codemirror_mode": {
    "name": "ipython",
    "version": 2
   },
   "file_extension": ".py",
   "mimetype": "text/x-python",
   "name": "python",
   "nbconvert_exporter": "python",
   "pygments_lexer": "ipython2",
   "version": "2.7.13"
  }
 },
 "nbformat": 4,
 "nbformat_minor": 2
}
