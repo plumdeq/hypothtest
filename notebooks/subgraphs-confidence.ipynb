{
 "cells": [
  {
   "cell_type": "code",
   "execution_count": 83,
   "metadata": {
    "collapsed": false
   },
   "outputs": [
    {
     "name": "stdout",
     "output_type": "stream",
     "text": [
      "The autoreload extension is already loaded. To reload it, use:\n",
      "  %reload_ext autoreload\n"
     ]
    }
   ],
   "source": [
    "%load_ext autoreload\n",
    "%autoreload 2"
   ]
  },
  {
   "cell_type": "code",
   "execution_count": 84,
   "metadata": {
    "collapsed": false
   },
   "outputs": [
    {
     "name": "stdout",
     "output_type": "stream",
     "text": [
      "Populating the interactive namespace from numpy and matplotlib\n"
     ]
    }
   ],
   "source": [
    "%pylab inline"
   ]
  },
  {
   "cell_type": "markdown",
   "metadata": {},
   "source": [
    "# Confidence in hypothesis"
   ]
  },
  {
   "cell_type": "markdown",
   "metadata": {},
   "source": [
    "This notebook demonsrtrates the evolution of confidence in a hypothesis. Depending on the hypothesis configuration of a subgraph we compare it to the maximum confidence we can obtain from a bigger graph."
   ]
  },
  {
   "cell_type": "markdown",
   "metadata": {},
   "source": [
    "## Statistics of the hypothesis graph"
   ]
  },
  {
   "cell_type": "markdown",
   "metadata": {},
   "source": [
    "Number of nodes and arcs of the hypothesis graph"
   ]
  },
  {
   "cell_type": "code",
   "execution_count": 85,
   "metadata": {
    "collapsed": false
   },
   "outputs": [],
   "source": [
    "from hypotest.setup_hypothgraph import sample_graphs"
   ]
  },
  {
   "cell_type": "code",
   "execution_count": 86,
   "metadata": {
    "collapsed": false
   },
   "outputs": [],
   "source": [
    "hypothgraph = sample_graphs.sample_hypothgraph()"
   ]
  },
  {
   "cell_type": "code",
   "execution_count": 87,
   "metadata": {
    "collapsed": true
   },
   "outputs": [],
   "source": [
    "nb_nodes = len(hypothgraph.nodes())\n",
    "nb_arcs = len(hypothgraph.edges())"
   ]
  },
  {
   "cell_type": "code",
   "execution_count": 88,
   "metadata": {
    "collapsed": false
   },
   "outputs": [
    {
     "name": "stdout",
     "output_type": "stream",
     "text": [
      "number of nodes 36, number of arcs 49\n"
     ]
    }
   ],
   "source": [
    "print(\"number of nodes {}, number of arcs {}\".format(nb_nodes, nb_arcs))"
   ]
  },
  {
   "cell_type": "markdown",
   "metadata": {},
   "source": [
    "## Hypothesis causal endpoints"
   ]
  },
  {
   "cell_type": "markdown",
   "metadata": {},
   "source": [
    "Creation of a subgraph is a bit of *woodo* magic, we need to say what is the desired ratio of the paths from *source* to *target*, the causal endpoints of a hypothesis. So before we proceed we need the hypothesis configuration."
   ]
  },
  {
   "cell_type": "code",
   "execution_count": 89,
   "metadata": {
    "collapsed": true
   },
   "outputs": [],
   "source": [
    "import networkx as nx"
   ]
  },
  {
   "cell_type": "code",
   "execution_count": 90,
   "metadata": {
    "collapsed": true
   },
   "outputs": [],
   "source": [
    "from hypotest.graph_generation import hypoth_conf"
   ]
  },
  {
   "cell_type": "code",
   "execution_count": 91,
   "metadata": {
    "collapsed": true
   },
   "outputs": [],
   "source": [
    "source, target = hypoth_conf.generate_rich_endpoints(hypothgraph, min_nb_paths=6)"
   ]
  },
  {
   "cell_type": "code",
   "execution_count": 92,
   "metadata": {
    "collapsed": false
   },
   "outputs": [
    {
     "name": "stdout",
     "output_type": "stream",
     "text": [
      "number of paths from http://plumdeq.xyz/ontologies/hypothesis/Mechanical_overloading to http://plumdeq.xyz/ontologies/hypothesis/Collagen_production is 14\n"
     ]
    }
   ],
   "source": [
    "print('number of paths from {} to {} is {}'.format(source, target, len(list(nx.all_simple_paths(hypothgraph, source, target)))))"
   ]
  },
  {
   "cell_type": "markdown",
   "metadata": {},
   "source": [
    "## Create a sub hypothesis graph"
   ]
  },
  {
   "cell_type": "markdown",
   "metadata": {},
   "source": [
    "We deliberately choose a very small ratio of `on_boundary` paths, however we take some fair amount of paths within the hypothesis configuration."
   ]
  },
  {
   "cell_type": "code",
   "execution_count": 93,
   "metadata": {
    "collapsed": true
   },
   "outputs": [],
   "source": [
    "from hypotest.graph_generation import sub_hypothgraph"
   ]
  },
  {
   "cell_type": "code",
   "execution_count": 94,
   "metadata": {
    "collapsed": true
   },
   "outputs": [],
   "source": [
    "ratio_on_boundary_paths = 0.01\n",
    "ratio_endpoints_paths = 0.1"
   ]
  },
  {
   "cell_type": "code",
   "execution_count": 95,
   "metadata": {
    "collapsed": true
   },
   "outputs": [],
   "source": [
    "subgraph = sub_hypothgraph.generate_sub_hypothgraph(\n",
    "    hypothgraph, source, target,\n",
    "    ratio_endpoints_paths=ratio_endpoints_paths,\n",
    "    ratio_on_boundary_paths=ratio_on_boundary_paths)"
   ]
  },
  {
   "cell_type": "code",
   "execution_count": 96,
   "metadata": {
    "collapsed": true
   },
   "outputs": [],
   "source": [
    "nb_sub_nodes = len(subgraph.nodes())\n",
    "nb_sub_arcs = len(subgraph.edges())"
   ]
  },
  {
   "cell_type": "code",
   "execution_count": 97,
   "metadata": {
    "collapsed": false
   },
   "outputs": [
    {
     "name": "stdout",
     "output_type": "stream",
     "text": [
      "number of nodes 16, number of arcs 14\n"
     ]
    }
   ],
   "source": [
    "print(\"number of nodes {}, number of arcs {}\".format(nb_sub_nodes, nb_sub_arcs))"
   ]
  },
  {
   "cell_type": "markdown",
   "metadata": {},
   "source": [
    "## Computing confidences"
   ]
  },
  {
   "cell_type": "markdown",
   "metadata": {},
   "source": [
    "To compute the confidences in both sub and hypothgraphs we need to determine what are boundary interiors in both of the graphs."
   ]
  },
  {
   "cell_type": "markdown",
   "metadata": {},
   "source": [
    "### Confidence computation"
   ]
  },
  {
   "cell_type": "markdown",
   "metadata": {},
   "source": [
    "Confidence is computed as the sum of all weighted paths from `source` to `target` normalized to the number of these weighted paths. Suppose `source` is $u$ and `target` is $v$.\n",
    "\n",
    "$$\n",
    "Confidence(u, v) = \\frac{\\sum_{\\pi_i(u, v)} weighted\\_path(\\pi_i)}{len(\\pi(u, v))}\n",
    "$$"
   ]
  },
  {
   "cell_type": "markdown",
   "metadata": {},
   "source": [
    "### Boundary interiors of the two graphs"
   ]
  },
  {
   "cell_type": "code",
   "execution_count": 98,
   "metadata": {
    "collapsed": true
   },
   "outputs": [],
   "source": [
    "from hypotest.graph_generation import boundary"
   ]
  },
  {
   "cell_type": "code",
   "execution_count": 99,
   "metadata": {
    "collapsed": false
   },
   "outputs": [],
   "source": [
    "sub_boundary_interior = list(boundary.in_boundary_interior(subgraph, source, target))"
   ]
  },
  {
   "cell_type": "code",
   "execution_count": 100,
   "metadata": {
    "collapsed": true
   },
   "outputs": [],
   "source": [
    "big_boundary_interior = list(boundary.in_boundary_interior(hypothgraph, source, target))"
   ]
  },
  {
   "cell_type": "code",
   "execution_count": 101,
   "metadata": {
    "collapsed": false
   },
   "outputs": [
    {
     "name": "stdout",
     "output_type": "stream",
     "text": [
      "Nb nodes in the boundary interior (subgraph) 11), nb nodes in full boundary interior 17\n"
     ]
    }
   ],
   "source": [
    "print(\"Nb nodes in the boundary interior (subgraph) {}), nb nodes in full boundary interior {}\".format(\n",
    "    len(sub_boundary_interior), len(big_boundary_interior)))"
   ]
  },
  {
   "cell_type": "code",
   "execution_count": 102,
   "metadata": {
    "collapsed": false
   },
   "outputs": [
    {
     "name": "stdout",
     "output_type": "stream",
     "text": [
      "Nb of paths in big 14 and in small 2\n"
     ]
    }
   ],
   "source": [
    "big_nb_paths = len(list(nx.all_simple_paths(hypothgraph, source, target)))\n",
    "small_nb_paths = len(list(nx.all_simple_paths(subgraph, source, target)))\n",
    "print(\"Nb of paths in big {} and in small {}\".format(big_nb_paths, small_nb_paths))"
   ]
  },
  {
   "cell_type": "markdown",
   "metadata": {},
   "source": [
    "### Confidence subgraph"
   ]
  },
  {
   "cell_type": "code",
   "execution_count": 103,
   "metadata": {
    "collapsed": true
   },
   "outputs": [],
   "source": [
    "from hypotest.stats import confidences"
   ]
  },
  {
   "cell_type": "markdown",
   "metadata": {},
   "source": [
    "Confidence in the hypothesis as we gradually add more evidenced nodes from the boundary, inside the subgraph only"
   ]
  },
  {
   "cell_type": "code",
   "execution_count": 104,
   "metadata": {
    "collapsed": false
   },
   "outputs": [
    {
     "data": {
      "text/plain": [
       "[0.0, 1.0, 2.0, 3.0, 3.5, 4.0, 4.5, 5.0, 6.0, 7.0, 8.0, 8.5]"
      ]
     },
     "execution_count": 104,
     "metadata": {},
     "output_type": "execute_result"
    }
   ],
   "source": [
    "sub_confidences = confidences.confidence_spectrum(subgraph, source, target)\n",
    "sub_confidences"
   ]
  },
  {
   "cell_type": "code",
   "execution_count": 105,
   "metadata": {
    "collapsed": false
   },
   "outputs": [
    {
     "data": {
      "text/plain": [
       "[0.0,\n",
       " 0.11764705882352941,\n",
       " 0.23529411764705882,\n",
       " 0.35294117647058826,\n",
       " 0.4117647058823529,\n",
       " 0.47058823529411764,\n",
       " 0.5294117647058824,\n",
       " 0.5882352941176471,\n",
       " 0.7058823529411765,\n",
       " 0.8235294117647058,\n",
       " 0.9411764705882353,\n",
       " 1.0]"
      ]
     },
     "execution_count": 105,
     "metadata": {},
     "output_type": "execute_result"
    }
   ],
   "source": [
    "sub_confidences_normalized = confidences.confidence_spectrum(subgraph, source, target, normalized=True)\n",
    "sub_confidences_normalized"
   ]
  },
  {
   "cell_type": "code",
   "execution_count": 106,
   "metadata": {
    "collapsed": false
   },
   "outputs": [
    {
     "data": {
      "text/plain": [
       "[<matplotlib.lines.Line2D at 0x104ce9850>]"
      ]
     },
     "execution_count": 106,
     "metadata": {},
     "output_type": "execute_result"
    },
    {
     "data": {
      "image/png": "[encoded data removed]",
      "text/plain": [
       "<matplotlib.figure.Figure at 0x105fb1690>"
      ]
     },
     "metadata": {},
     "output_type": "display_data"
    }
   ],
   "source": [
    "plt.plot(sub_confidences_normalized)\n",
    "plt.plot(sub_confidences)"
   ]
  },
  {
   "cell_type": "markdown",
   "metadata": {},
   "source": [
    "### Confidence bigraph "
   ]
  },
  {
   "cell_type": "code",
   "execution_count": 107,
   "metadata": {
    "collapsed": false
   },
   "outputs": [
    {
     "data": {
      "text/plain": [
       "[0.0,\n",
       " 1.0,\n",
       " 1.2142857142857142,\n",
       " 1.4285714285714286,\n",
       " 2.4285714285714284,\n",
       " 3.4285714285714284,\n",
       " 4.0,\n",
       " 4.285714285714286,\n",
       " 4.357142857142857,\n",
       " 4.785714285714286,\n",
       " 5.071428571428571,\n",
       " 5.928571428571429,\n",
       " 6.928571428571429,\n",
       " 7.357142857142857,\n",
       " 8.357142857142858,\n",
       " 8.785714285714286,\n",
       " 9.785714285714286,\n",
       " 10.214285714285714]"
      ]
     },
     "execution_count": 107,
     "metadata": {},
     "output_type": "execute_result"
    }
   ],
   "source": [
    "big_confidences = confidences.confidence_spectrum(hypothgraph, source, target)\n",
    "big_confidences"
   ]
  },
  {
   "cell_type": "code",
   "execution_count": 108,
   "metadata": {
    "collapsed": false
   },
   "outputs": [
    {
     "data": {
      "text/plain": [
       "[0.0,\n",
       " 0.0979020979020979,\n",
       " 0.11888111888111888,\n",
       " 0.13986013986013987,\n",
       " 0.23776223776223776,\n",
       " 0.3356643356643357,\n",
       " 0.3916083916083916,\n",
       " 0.4195804195804196,\n",
       " 0.42657342657342656,\n",
       " 0.46853146853146854,\n",
       " 0.4965034965034965,\n",
       " 0.5804195804195805,\n",
       " 0.6783216783216784,\n",
       " 0.7202797202797203,\n",
       " 0.8181818181818183,\n",
       " 0.8601398601398603,\n",
       " 0.9580419580419582,\n",
       " 1.0]"
      ]
     },
     "execution_count": 108,
     "metadata": {},
     "output_type": "execute_result"
    }
   ],
   "source": [
    "big_confidences_normalized = confidences.confidence_spectrum(hypothgraph, source, target, normalized=True)\n",
    "big_confidences_normalized"
   ]
  },
  {
   "cell_type": "code",
   "execution_count": 109,
   "metadata": {
    "collapsed": false
   },
   "outputs": [
    {
     "data": {
      "text/plain": [
       "[<matplotlib.lines.Line2D at 0x105fe4d10>]"
      ]
     },
     "execution_count": 109,
     "metadata": {},
     "output_type": "execute_result"
    },
    {
     "data": {
      "image/png": "[encoded data removed]",
      "text/plain": [
       "<matplotlib.figure.Figure at 0x105fe4e10>"
      ]
     },
     "metadata": {},
     "output_type": "display_data"
    }
   ],
   "source": [
    "plt.plot(big_confidences_normalized)\n",
    "plt.plot(big_confidences)"
   ]
  },
  {
   "cell_type": "markdown",
   "metadata": {},
   "source": [
    "## Relative confidence values"
   ]
  },
  {
   "cell_type": "markdown",
   "metadata": {},
   "source": [
    "Here we check confidence values which can be obtained withing the small graph, normalized to the max confidence inside the small graph, as well as normalized to the max in the big graph"
   ]
  },
  {
   "cell_type": "code",
   "execution_count": 110,
   "metadata": {
    "collapsed": true
   },
   "outputs": [],
   "source": [
    "import pandas as pd"
   ]
  },
  {
   "cell_type": "code",
   "execution_count": 111,
   "metadata": {
    "collapsed": false
   },
   "outputs": [],
   "source": [
    "relative_spectrum = confidences.relative_confidence_spectrum(hypothgraph, subgraph, source, target)"
   ]
  },
  {
   "cell_type": "code",
   "execution_count": 112,
   "metadata": {
    "collapsed": true
   },
   "outputs": [],
   "source": [
    "relative_spectrum_df = pd.DataFrame(relative_spectrum)"
   ]
  },
  {
   "cell_type": "code",
   "execution_count": 113,
   "metadata": {
    "collapsed": false
   },
   "outputs": [
    {
     "data": {
      "text/html": [
       "<div>\n",
       "<table border=\"1\" class=\"dataframe\">\n",
       "  <thead>\n",
       "    <tr style=\"text-align: right;\">\n",
       "      <th></th>\n",
       "      <th>big_confidence_normalized_spectrum</th>\n",
       "      <th>big_confidence_spectrum</th>\n",
       "      <th>sub_confidence_normalized_spectrum</th>\n",
       "      <th>sub_confidence_spectrum</th>\n",
       "    </tr>\n",
       "  </thead>\n",
       "  <tbody>\n",
       "    <tr>\n",
       "      <th>0</th>\n",
       "      <td>0.000000</td>\n",
       "      <td>0.000000</td>\n",
       "      <td>0.000000</td>\n",
       "      <td>0.0</td>\n",
       "    </tr>\n",
       "    <tr>\n",
       "      <th>1</th>\n",
       "      <td>0.097902</td>\n",
       "      <td>1.000000</td>\n",
       "      <td>0.117647</td>\n",
       "      <td>1.0</td>\n",
       "    </tr>\n",
       "    <tr>\n",
       "      <th>2</th>\n",
       "      <td>0.195804</td>\n",
       "      <td>2.000000</td>\n",
       "      <td>0.235294</td>\n",
       "      <td>2.0</td>\n",
       "    </tr>\n",
       "    <tr>\n",
       "      <th>3</th>\n",
       "      <td>0.293706</td>\n",
       "      <td>3.000000</td>\n",
       "      <td>0.352941</td>\n",
       "      <td>3.0</td>\n",
       "    </tr>\n",
       "    <tr>\n",
       "      <th>4</th>\n",
       "      <td>0.335664</td>\n",
       "      <td>3.428571</td>\n",
       "      <td>0.411765</td>\n",
       "      <td>3.5</td>\n",
       "    </tr>\n",
       "    <tr>\n",
       "      <th>5</th>\n",
       "      <td>0.342657</td>\n",
       "      <td>3.500000</td>\n",
       "      <td>0.470588</td>\n",
       "      <td>4.0</td>\n",
       "    </tr>\n",
       "    <tr>\n",
       "      <th>6</th>\n",
       "      <td>0.370629</td>\n",
       "      <td>3.785714</td>\n",
       "      <td>0.529412</td>\n",
       "      <td>4.5</td>\n",
       "    </tr>\n",
       "    <tr>\n",
       "      <th>7</th>\n",
       "      <td>0.454545</td>\n",
       "      <td>4.642857</td>\n",
       "      <td>0.588235</td>\n",
       "      <td>5.0</td>\n",
       "    </tr>\n",
       "    <tr>\n",
       "      <th>8</th>\n",
       "      <td>0.552448</td>\n",
       "      <td>5.642857</td>\n",
       "      <td>0.705882</td>\n",
       "      <td>6.0</td>\n",
       "    </tr>\n",
       "    <tr>\n",
       "      <th>9</th>\n",
       "      <td>0.650350</td>\n",
       "      <td>6.642857</td>\n",
       "      <td>0.823529</td>\n",
       "      <td>7.0</td>\n",
       "    </tr>\n",
       "    <tr>\n",
       "      <th>10</th>\n",
       "      <td>0.748252</td>\n",
       "      <td>7.642857</td>\n",
       "      <td>0.941176</td>\n",
       "      <td>8.0</td>\n",
       "    </tr>\n",
       "    <tr>\n",
       "      <th>11</th>\n",
       "      <td>0.790210</td>\n",
       "      <td>8.071429</td>\n",
       "      <td>1.000000</td>\n",
       "      <td>8.5</td>\n",
       "    </tr>\n",
       "  </tbody>\n",
       "</table>\n",
       "</div>"
      ],
      "text/plain": [
       "    big_confidence_normalized_spectrum  big_confidence_spectrum  \\\n",
       "0                             0.000000                 0.000000   \n",
       "1                             0.097902                 1.000000   \n",
       "2                             0.195804                 2.000000   \n",
       "3                             0.293706                 3.000000   \n",
       "4                             0.335664                 3.428571   \n",
       "5                             0.342657                 3.500000   \n",
       "6                             0.370629                 3.785714   \n",
       "7                             0.454545                 4.642857   \n",
       "8                             0.552448                 5.642857   \n",
       "9                             0.650350                 6.642857   \n",
       "10                            0.748252                 7.642857   \n",
       "11                            0.790210                 8.071429   \n",
       "\n",
       "    sub_confidence_normalized_spectrum  sub_confidence_spectrum  \n",
       "0                             0.000000                      0.0  \n",
       "1                             0.117647                      1.0  \n",
       "2                             0.235294                      2.0  \n",
       "3                             0.352941                      3.0  \n",
       "4                             0.411765                      3.5  \n",
       "5                             0.470588                      4.0  \n",
       "6                             0.529412                      4.5  \n",
       "7                             0.588235                      5.0  \n",
       "8                             0.705882                      6.0  \n",
       "9                             0.823529                      7.0  \n",
       "10                            0.941176                      8.0  \n",
       "11                            1.000000                      8.5  "
      ]
     },
     "execution_count": 113,
     "metadata": {},
     "output_type": "execute_result"
    }
   ],
   "source": [
    "relative_spectrum_df"
   ]
  },
  {
   "cell_type": "markdown",
   "metadata": {},
   "source": [
    "## Draw this configuration"
   ]
  },
  {
   "cell_type": "code",
   "execution_count": 114,
   "metadata": {
    "collapsed": true
   },
   "outputs": [],
   "source": [
    "from hypotest.io import write_dot"
   ]
  },
  {
   "cell_type": "code",
   "execution_count": 115,
   "metadata": {
    "collapsed": true
   },
   "outputs": [],
   "source": [
    "current_conf = './images/subgraphs/current_conf.dot'"
   ]
  },
  {
   "cell_type": "code",
   "execution_count": 116,
   "metadata": {
    "collapsed": false
   },
   "outputs": [
    {
     "ename": "AttributeError",
     "evalue": "'module' object has no attribute 'to_dot'",
     "output_type": "error",
     "traceback": [
      "\u001b[0;31m---------------------------------------------------------------------------\u001b[0m",
      "\u001b[0;31mAttributeError\u001b[0m                            Traceback (most recent call last)",
      "\u001b[0;32m<ipython-input-116-fc9e56d53fa9>\u001b[0m in \u001b[0;36m<module>\u001b[0;34m()\u001b[0m\n\u001b[1;32m      1\u001b[0m \u001b[0;32mwith\u001b[0m \u001b[0mopen\u001b[0m\u001b[0;34m(\u001b[0m\u001b[0mcurrent_conf\u001b[0m\u001b[0;34m,\u001b[0m \u001b[0;34m'w'\u001b[0m\u001b[0;34m)\u001b[0m \u001b[0;32mas\u001b[0m \u001b[0mf\u001b[0m\u001b[0;34m:\u001b[0m\u001b[0;34m\u001b[0m\u001b[0m\n\u001b[0;32m----> 2\u001b[0;31m     \u001b[0mwrite_dot\u001b[0m\u001b[0;34m.\u001b[0m\u001b[0mto_dot\u001b[0m\u001b[0;34m(\u001b[0m\u001b[0mhypothgraph\u001b[0m\u001b[0;34m,\u001b[0m \u001b[0msubgraph\u001b[0m\u001b[0;34m,\u001b[0m \u001b[0msource\u001b[0m\u001b[0;34m,\u001b[0m \u001b[0mtarget\u001b[0m\u001b[0;34m,\u001b[0m \u001b[0mstream\u001b[0m\u001b[0;34m=\u001b[0m\u001b[0mf\u001b[0m\u001b[0;34m)\u001b[0m\u001b[0;34m\u001b[0m\u001b[0m\n\u001b[0m",
      "\u001b[0;31mAttributeError\u001b[0m: 'module' object has no attribute 'to_dot'"
     ]
    }
   ],
   "source": [
    "with open(current_conf, 'w') as f:\n",
    "    write_dot.to_dot(hypothgraph, subgraph, source, target, stream=f)"
   ]
  }
 ],
 "metadata": {
  "kernelspec": {
   "display_name": "Python 2",
   "language": "python",
   "name": "python2"
  },
  "language_info": {
   "codemirror_mode": {
    "name": "ipython",
    "version": 2
   },
   "file_extension": ".py",
   "mimetype": "text/x-python",
   "name": "python",
   "nbconvert_exporter": "python",
   "pygments_lexer": "ipython2",
   "version": "2.7.13"
  }
 },
 "nbformat": 4,
 "nbformat_minor": 2
}
